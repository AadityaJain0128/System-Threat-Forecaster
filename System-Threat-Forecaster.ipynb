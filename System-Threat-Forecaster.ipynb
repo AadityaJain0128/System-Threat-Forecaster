{
 "cells": [
  {
   "cell_type": "code",
   "execution_count": 1,
   "id": "c7d5e7f2",
   "metadata": {
    "_cell_guid": "b1076dfc-b9ad-4769-8c92-a6c4dae69d19",
    "_uuid": "8f2839f25d086af736a60e9eeb907d3b93b6e0e5",
    "execution": {
     "iopub.execute_input": "2025-03-17T15:56:21.018954Z",
     "iopub.status.busy": "2025-03-17T15:56:21.018554Z",
     "iopub.status.idle": "2025-03-17T15:56:22.039106Z",
     "shell.execute_reply": "2025-03-17T15:56:22.038059Z"
    },
    "papermill": {
     "duration": 1.037161,
     "end_time": "2025-03-17T15:56:22.041226",
     "exception": false,
     "start_time": "2025-03-17T15:56:21.004065",
     "status": "completed"
    },
    "tags": []
   },
   "outputs": [],
   "source": [
    "import numpy as np\n",
    "import pandas as pd"
   ]
  },
  {
   "cell_type": "code",
   "execution_count": 2,
   "id": "4354551c",
   "metadata": {
    "execution": {
     "iopub.execute_input": "2025-03-17T15:56:22.069639Z",
     "iopub.status.busy": "2025-03-17T15:56:22.069119Z",
     "iopub.status.idle": "2025-03-17T15:56:24.313351Z",
     "shell.execute_reply": "2025-03-17T15:56:24.312143Z"
    },
    "papermill": {
     "duration": 2.260254,
     "end_time": "2025-03-17T15:56:24.315364",
     "exception": false,
     "start_time": "2025-03-17T15:56:22.055110",
     "status": "completed"
    },
    "tags": []
   },
   "outputs": [
    {
     "data": {
      "text/plain": [
       "((100000, 76), (10000, 75))"
      ]
     },
     "execution_count": 2,
     "metadata": {},
     "output_type": "execute_result"
    }
   ],
   "source": [
    "train_path = \"/kaggle/input/System-Threat-Forecaster/train.csv\"\n",
    "test_path = \"/kaggle/input/System-Threat-Forecaster/test.csv\"\n",
    "\n",
    "df = pd.read_csv(train_path)\n",
    "X_test = pd.read_csv(test_path)\n",
    "\n",
    "df.shape, X_test.shape"
   ]
  },
  {
   "cell_type": "code",
   "execution_count": 3,
   "id": "2a59cfa3",
   "metadata": {
    "execution": {
     "iopub.execute_input": "2025-03-17T15:56:24.347174Z",
     "iopub.status.busy": "2025-03-17T15:56:24.346533Z",
     "iopub.status.idle": "2025-03-17T15:56:24.394593Z",
     "shell.execute_reply": "2025-03-17T15:56:24.393533Z"
    },
    "papermill": {
     "duration": 0.066654,
     "end_time": "2025-03-17T15:56:24.396600",
     "exception": false,
     "start_time": "2025-03-17T15:56:24.329946",
     "status": "completed"
    },
    "tags": []
   },
   "outputs": [
    {
     "data": {
      "text/html": [
       "<div>\n",
       "<style scoped>\n",
       "    .dataframe tbody tr th:only-of-type {\n",
       "        vertical-align: middle;\n",
       "    }\n",
       "\n",
       "    .dataframe tbody tr th {\n",
       "        vertical-align: top;\n",
       "    }\n",
       "\n",
       "    .dataframe thead th {\n",
       "        text-align: right;\n",
       "    }\n",
       "</style>\n",
       "<table border=\"1\" class=\"dataframe\">\n",
       "  <thead>\n",
       "    <tr style=\"text-align: right;\">\n",
       "      <th></th>\n",
       "      <th>MachineID</th>\n",
       "      <th>ProductName</th>\n",
       "      <th>EngineVersion</th>\n",
       "      <th>AppVersion</th>\n",
       "      <th>SignatureVersion</th>\n",
       "      <th>IsBetaUser</th>\n",
       "      <th>RealTimeProtectionState</th>\n",
       "      <th>IsPassiveModeEnabled</th>\n",
       "      <th>AntivirusConfigID</th>\n",
       "      <th>NumAntivirusProductsInstalled</th>\n",
       "      <th>...</th>\n",
       "      <th>IsSecureBootEnabled</th>\n",
       "      <th>IsVirtualDevice</th>\n",
       "      <th>IsTouchEnabled</th>\n",
       "      <th>IsPenCapable</th>\n",
       "      <th>IsAlwaysOnAlwaysConnectedCapable</th>\n",
       "      <th>IsGamer</th>\n",
       "      <th>RegionIdentifier</th>\n",
       "      <th>DateAS</th>\n",
       "      <th>DateOS</th>\n",
       "      <th>target</th>\n",
       "    </tr>\n",
       "  </thead>\n",
       "  <tbody>\n",
       "    <tr>\n",
       "      <th>0</th>\n",
       "      <td>f541bae429089117c4aac39c90dd3416</td>\n",
       "      <td>win8defender</td>\n",
       "      <td>1.1.15200.1</td>\n",
       "      <td>4.18.1807.18075</td>\n",
       "      <td>1.275.1003.0</td>\n",
       "      <td>0</td>\n",
       "      <td>7.0</td>\n",
       "      <td>0</td>\n",
       "      <td>53447.0</td>\n",
       "      <td>1.0</td>\n",
       "      <td>...</td>\n",
       "      <td>0</td>\n",
       "      <td>0.0</td>\n",
       "      <td>1</td>\n",
       "      <td>0</td>\n",
       "      <td>1.0</td>\n",
       "      <td>0.0</td>\n",
       "      <td>6.0</td>\n",
       "      <td>2018-09-10 10:11:00</td>\n",
       "      <td>2018-04-17</td>\n",
       "      <td>0</td>\n",
       "    </tr>\n",
       "    <tr>\n",
       "      <th>1</th>\n",
       "      <td>dc2b14d9ce3a0ce4050bb640190f2ca5</td>\n",
       "      <td>win8defender</td>\n",
       "      <td>1.1.15100.1</td>\n",
       "      <td>4.18.1807.18075</td>\n",
       "      <td>1.273.1465.0</td>\n",
       "      <td>0</td>\n",
       "      <td>7.0</td>\n",
       "      <td>0</td>\n",
       "      <td>53447.0</td>\n",
       "      <td>1.0</td>\n",
       "      <td>...</td>\n",
       "      <td>1</td>\n",
       "      <td>0.0</td>\n",
       "      <td>0</td>\n",
       "      <td>0</td>\n",
       "      <td>0.0</td>\n",
       "      <td>0.0</td>\n",
       "      <td>10.0</td>\n",
       "      <td>2018-08-16 00:01:00</td>\n",
       "      <td>2018-08-14</td>\n",
       "      <td>1</td>\n",
       "    </tr>\n",
       "    <tr>\n",
       "      <th>2</th>\n",
       "      <td>fd20c5f010e9c5f91ad1c6b3e0da68a0</td>\n",
       "      <td>win8defender</td>\n",
       "      <td>1.1.15200.1</td>\n",
       "      <td>4.18.1807.18075</td>\n",
       "      <td>1.275.1546.0</td>\n",
       "      <td>0</td>\n",
       "      <td>7.0</td>\n",
       "      <td>0</td>\n",
       "      <td>53447.0</td>\n",
       "      <td>1.0</td>\n",
       "      <td>...</td>\n",
       "      <td>0</td>\n",
       "      <td>0.0</td>\n",
       "      <td>0</td>\n",
       "      <td>0</td>\n",
       "      <td>0.0</td>\n",
       "      <td>1.0</td>\n",
       "      <td>6.0</td>\n",
       "      <td>2018-09-20 23:20:00</td>\n",
       "      <td>2018-09-11</td>\n",
       "      <td>1</td>\n",
       "    </tr>\n",
       "    <tr>\n",
       "      <th>3</th>\n",
       "      <td>38711eae85eb77a72ec5dfdf27eb2a76</td>\n",
       "      <td>win8defender</td>\n",
       "      <td>1.1.15200.1</td>\n",
       "      <td>4.12.17007.18011</td>\n",
       "      <td>1.275.1141.0</td>\n",
       "      <td>0</td>\n",
       "      <td>7.0</td>\n",
       "      <td>0</td>\n",
       "      <td>46413.0</td>\n",
       "      <td>2.0</td>\n",
       "      <td>...</td>\n",
       "      <td>1</td>\n",
       "      <td>0.0</td>\n",
       "      <td>0</td>\n",
       "      <td>0</td>\n",
       "      <td>0.0</td>\n",
       "      <td>0.0</td>\n",
       "      <td>12.0</td>\n",
       "      <td>2018-09-14 00:32:00</td>\n",
       "      <td>2018-01-03</td>\n",
       "      <td>1</td>\n",
       "    </tr>\n",
       "    <tr>\n",
       "      <th>4</th>\n",
       "      <td>32607c9a543a9214e2c7e45800ed4849</td>\n",
       "      <td>win8defender</td>\n",
       "      <td>1.1.15200.1</td>\n",
       "      <td>4.13.17134.228</td>\n",
       "      <td>1.275.1283.0</td>\n",
       "      <td>0</td>\n",
       "      <td>7.0</td>\n",
       "      <td>0</td>\n",
       "      <td>40466.0</td>\n",
       "      <td>2.0</td>\n",
       "      <td>...</td>\n",
       "      <td>0</td>\n",
       "      <td>0.0</td>\n",
       "      <td>0</td>\n",
       "      <td>0</td>\n",
       "      <td>0.0</td>\n",
       "      <td>1.0</td>\n",
       "      <td>7.0</td>\n",
       "      <td>2018-09-15 19:34:00</td>\n",
       "      <td>2018-09-11</td>\n",
       "      <td>0</td>\n",
       "    </tr>\n",
       "  </tbody>\n",
       "</table>\n",
       "<p>5 rows × 76 columns</p>\n",
       "</div>"
      ],
      "text/plain": [
       "                          MachineID   ProductName EngineVersion  \\\n",
       "0  f541bae429089117c4aac39c90dd3416  win8defender   1.1.15200.1   \n",
       "1  dc2b14d9ce3a0ce4050bb640190f2ca5  win8defender   1.1.15100.1   \n",
       "2  fd20c5f010e9c5f91ad1c6b3e0da68a0  win8defender   1.1.15200.1   \n",
       "3  38711eae85eb77a72ec5dfdf27eb2a76  win8defender   1.1.15200.1   \n",
       "4  32607c9a543a9214e2c7e45800ed4849  win8defender   1.1.15200.1   \n",
       "\n",
       "         AppVersion SignatureVersion  IsBetaUser  RealTimeProtectionState  \\\n",
       "0   4.18.1807.18075     1.275.1003.0           0                      7.0   \n",
       "1   4.18.1807.18075     1.273.1465.0           0                      7.0   \n",
       "2   4.18.1807.18075     1.275.1546.0           0                      7.0   \n",
       "3  4.12.17007.18011     1.275.1141.0           0                      7.0   \n",
       "4    4.13.17134.228     1.275.1283.0           0                      7.0   \n",
       "\n",
       "   IsPassiveModeEnabled  AntivirusConfigID  NumAntivirusProductsInstalled  \\\n",
       "0                     0            53447.0                            1.0   \n",
       "1                     0            53447.0                            1.0   \n",
       "2                     0            53447.0                            1.0   \n",
       "3                     0            46413.0                            2.0   \n",
       "4                     0            40466.0                            2.0   \n",
       "\n",
       "   ...  IsSecureBootEnabled  IsVirtualDevice  IsTouchEnabled  IsPenCapable  \\\n",
       "0  ...                    0              0.0               1             0   \n",
       "1  ...                    1              0.0               0             0   \n",
       "2  ...                    0              0.0               0             0   \n",
       "3  ...                    1              0.0               0             0   \n",
       "4  ...                    0              0.0               0             0   \n",
       "\n",
       "   IsAlwaysOnAlwaysConnectedCapable  IsGamer RegionIdentifier  \\\n",
       "0                               1.0      0.0              6.0   \n",
       "1                               0.0      0.0             10.0   \n",
       "2                               0.0      1.0              6.0   \n",
       "3                               0.0      0.0             12.0   \n",
       "4                               0.0      1.0              7.0   \n",
       "\n",
       "                DateAS      DateOS  target  \n",
       "0  2018-09-10 10:11:00  2018-04-17       0  \n",
       "1  2018-08-16 00:01:00  2018-08-14       1  \n",
       "2  2018-09-20 23:20:00  2018-09-11       1  \n",
       "3  2018-09-14 00:32:00  2018-01-03       1  \n",
       "4  2018-09-15 19:34:00  2018-09-11       0  \n",
       "\n",
       "[5 rows x 76 columns]"
      ]
     },
     "execution_count": 3,
     "metadata": {},
     "output_type": "execute_result"
    }
   ],
   "source": [
    "df.head()"
   ]
  },
  {
   "cell_type": "code",
   "execution_count": 4,
   "id": "185d73c7",
   "metadata": {
    "execution": {
     "iopub.execute_input": "2025-03-17T15:56:24.425343Z",
     "iopub.status.busy": "2025-03-17T15:56:24.425023Z",
     "iopub.status.idle": "2025-03-17T15:56:24.595863Z",
     "shell.execute_reply": "2025-03-17T15:56:24.594435Z"
    },
    "papermill": {
     "duration": 0.187891,
     "end_time": "2025-03-17T15:56:24.597727",
     "exception": false,
     "start_time": "2025-03-17T15:56:24.409836",
     "status": "completed"
    },
    "tags": []
   },
   "outputs": [
    {
     "name": "stdout",
     "output_type": "stream",
     "text": [
      "<class 'pandas.core.frame.DataFrame'>\n",
      "RangeIndex: 100000 entries, 0 to 99999\n",
      "Data columns (total 76 columns):\n",
      " #   Column                              Non-Null Count   Dtype  \n",
      "---  ------                              --------------   -----  \n",
      " 0   MachineID                           100000 non-null  object \n",
      " 1   ProductName                         100000 non-null  object \n",
      " 2   EngineVersion                       100000 non-null  object \n",
      " 3   AppVersion                          100000 non-null  object \n",
      " 4   SignatureVersion                    100000 non-null  object \n",
      " 5   IsBetaUser                          100000 non-null  int64  \n",
      " 6   RealTimeProtectionState             99934 non-null   float64\n",
      " 7   IsPassiveModeEnabled                100000 non-null  int64  \n",
      " 8   AntivirusConfigID                   99924 non-null   float64\n",
      " 9   NumAntivirusProductsInstalled       99924 non-null   float64\n",
      " 10  NumAntivirusProductsEnabled         99924 non-null   float64\n",
      " 11  HasTpm                              100000 non-null  int64  \n",
      " 12  CountryID                           100000 non-null  int64  \n",
      " 13  CityID                              99377 non-null   float64\n",
      " 14  GeoRegionID                         100000 non-null  float64\n",
      " 15  LocaleEnglishNameID                 100000 non-null  int64  \n",
      " 16  PlatformType                        100000 non-null  object \n",
      " 17  Processor                           100000 non-null  object \n",
      " 18  OSVersion                           100000 non-null  object \n",
      " 19  OSBuildNumber                       100000 non-null  int64  \n",
      " 20  OSProductSuite                      100000 non-null  int64  \n",
      " 21  OsPlatformSubRelease                100000 non-null  object \n",
      " 22  OSBuildLab                          100000 non-null  object \n",
      " 23  SKUEditionName                      100000 non-null  object \n",
      " 24  IsSystemProtected                   99924 non-null   float64\n",
      " 25  AutoSampleSubmissionEnabled         100000 non-null  int64  \n",
      " 26  SMode                               99019 non-null   float64\n",
      " 27  IEVersionID                         99893 non-null   float64\n",
      " 28  FirewallEnabled                     99834 non-null   float64\n",
      " 29  EnableLUA                           99981 non-null   float64\n",
      " 30  MDC2FormFactor                      100000 non-null  object \n",
      " 31  DeviceFamily                        100000 non-null  object \n",
      " 32  OEMNameID                           99788 non-null   float64\n",
      " 33  OEMModelID                          99772 non-null   float64\n",
      " 34  ProcessorCoreCount                  99915 non-null   float64\n",
      " 35  ProcessorManufacturerID             99915 non-null   float64\n",
      " 36  ProcessorModelID                    99915 non-null   float64\n",
      " 37  PrimaryDiskCapacityMB               99890 non-null   float64\n",
      " 38  PrimaryDiskType                     99977 non-null   object \n",
      " 39  SystemVolumeCapacityMB              99890 non-null   float64\n",
      " 40  HasOpticalDiskDrive                 100000 non-null  int64  \n",
      " 41  TotalPhysicalRAMMB                  99849 non-null   float64\n",
      " 42  ChassisType                         99998 non-null   object \n",
      " 43  PrimaryDisplayDiagonalInches        99928 non-null   float64\n",
      " 44  PrimaryDisplayResolutionHorizontal  99928 non-null   float64\n",
      " 45  PrimaryDisplayResolutionVertical    99928 non-null   float64\n",
      " 46  PowerPlatformRole                   100000 non-null  object \n",
      " 47  InternalBatteryNumberOfCharges      99485 non-null   float64\n",
      " 48  NumericOSVersion                    100000 non-null  object \n",
      " 49  OSArchitecture                      100000 non-null  object \n",
      " 50  OSBranch                            100000 non-null  object \n",
      " 51  OSBuildNumberOnly                   100000 non-null  int64  \n",
      " 52  OSBuildRevisionOnly                 100000 non-null  int64  \n",
      " 53  OSEdition                           100000 non-null  object \n",
      " 54  OSSkuFriendlyName                   100000 non-null  object \n",
      " 55  OSInstallType                       100000 non-null  object \n",
      " 56  OSInstallLanguageID                 99887 non-null   float64\n",
      " 57  OSUILocaleID                        100000 non-null  int64  \n",
      " 58  AutoUpdateOptionsName               100000 non-null  object \n",
      " 59  IsPortableOS                        100000 non-null  int64  \n",
      " 60  OSGenuineState                      100000 non-null  object \n",
      " 61  LicenseActivationChannel            100000 non-null  object \n",
      " 62  IsFlightsDisabled                   99674 non-null   float64\n",
      " 63  FlightRing                          100000 non-null  object \n",
      " 64  FirmwareManufacturerID              99624 non-null   float64\n",
      " 65  FirmwareVersionID                   99666 non-null   float64\n",
      " 66  IsSecureBootEnabled                 100000 non-null  int64  \n",
      " 67  IsVirtualDevice                     99980 non-null   float64\n",
      " 68  IsTouchEnabled                      100000 non-null  int64  \n",
      " 69  IsPenCapable                        100000 non-null  int64  \n",
      " 70  IsAlwaysOnAlwaysConnectedCapable    99866 non-null   float64\n",
      " 71  IsGamer                             99441 non-null   float64\n",
      " 72  RegionIdentifier                    99441 non-null   float64\n",
      " 73  DateAS                              100000 non-null  object \n",
      " 74  DateOS                              99976 non-null   object \n",
      " 75  target                              100000 non-null  int64  \n",
      "dtypes: float64(31), int64(17), object(28)\n",
      "memory usage: 58.0+ MB\n"
     ]
    }
   ],
   "source": [
    "df.info()"
   ]
  },
  {
   "cell_type": "code",
   "execution_count": 5,
   "id": "d89b2d3a",
   "metadata": {
    "execution": {
     "iopub.execute_input": "2025-03-17T15:56:24.624986Z",
     "iopub.status.busy": "2025-03-17T15:56:24.624625Z",
     "iopub.status.idle": "2025-03-17T15:56:24.905391Z",
     "shell.execute_reply": "2025-03-17T15:56:24.904272Z"
    },
    "papermill": {
     "duration": 0.296579,
     "end_time": "2025-03-17T15:56:24.907320",
     "exception": false,
     "start_time": "2025-03-17T15:56:24.610741",
     "status": "completed"
    },
    "tags": []
   },
   "outputs": [
    {
     "data": {
      "text/html": [
       "<div>\n",
       "<style scoped>\n",
       "    .dataframe tbody tr th:only-of-type {\n",
       "        vertical-align: middle;\n",
       "    }\n",
       "\n",
       "    .dataframe tbody tr th {\n",
       "        vertical-align: top;\n",
       "    }\n",
       "\n",
       "    .dataframe thead th {\n",
       "        text-align: right;\n",
       "    }\n",
       "</style>\n",
       "<table border=\"1\" class=\"dataframe\">\n",
       "  <thead>\n",
       "    <tr style=\"text-align: right;\">\n",
       "      <th></th>\n",
       "      <th>IsBetaUser</th>\n",
       "      <th>RealTimeProtectionState</th>\n",
       "      <th>IsPassiveModeEnabled</th>\n",
       "      <th>AntivirusConfigID</th>\n",
       "      <th>NumAntivirusProductsInstalled</th>\n",
       "      <th>NumAntivirusProductsEnabled</th>\n",
       "      <th>HasTpm</th>\n",
       "      <th>CountryID</th>\n",
       "      <th>CityID</th>\n",
       "      <th>GeoRegionID</th>\n",
       "      <th>...</th>\n",
       "      <th>FirmwareManufacturerID</th>\n",
       "      <th>FirmwareVersionID</th>\n",
       "      <th>IsSecureBootEnabled</th>\n",
       "      <th>IsVirtualDevice</th>\n",
       "      <th>IsTouchEnabled</th>\n",
       "      <th>IsPenCapable</th>\n",
       "      <th>IsAlwaysOnAlwaysConnectedCapable</th>\n",
       "      <th>IsGamer</th>\n",
       "      <th>RegionIdentifier</th>\n",
       "      <th>target</th>\n",
       "    </tr>\n",
       "  </thead>\n",
       "  <tbody>\n",
       "    <tr>\n",
       "      <th>count</th>\n",
       "      <td>100000.0</td>\n",
       "      <td>99934.000000</td>\n",
       "      <td>100000.000000</td>\n",
       "      <td>99924.000000</td>\n",
       "      <td>99924.000000</td>\n",
       "      <td>99924.000000</td>\n",
       "      <td>100000.000000</td>\n",
       "      <td>100000.000000</td>\n",
       "      <td>99377.000000</td>\n",
       "      <td>100000.000000</td>\n",
       "      <td>...</td>\n",
       "      <td>99624.000000</td>\n",
       "      <td>99666.000000</td>\n",
       "      <td>100000.000000</td>\n",
       "      <td>99980.000000</td>\n",
       "      <td>100000.000000</td>\n",
       "      <td>100000.000000</td>\n",
       "      <td>99866.000000</td>\n",
       "      <td>99441.000000</td>\n",
       "      <td>99441.000000</td>\n",
       "      <td>100000.000000</td>\n",
       "    </tr>\n",
       "    <tr>\n",
       "      <th>mean</th>\n",
       "      <td>0.0</td>\n",
       "      <td>6.848430</td>\n",
       "      <td>0.017620</td>\n",
       "      <td>47975.710440</td>\n",
       "      <td>1.326528</td>\n",
       "      <td>1.018264</td>\n",
       "      <td>0.996780</td>\n",
       "      <td>108.078790</td>\n",
       "      <td>81029.938587</td>\n",
       "      <td>169.741630</td>\n",
       "      <td>...</td>\n",
       "      <td>401.987613</td>\n",
       "      <td>32942.648044</td>\n",
       "      <td>0.495690</td>\n",
       "      <td>0.003841</td>\n",
       "      <td>0.128470</td>\n",
       "      <td>0.040580</td>\n",
       "      <td>0.058398</td>\n",
       "      <td>0.296668</td>\n",
       "      <td>7.875866</td>\n",
       "      <td>0.505250</td>\n",
       "    </tr>\n",
       "    <tr>\n",
       "      <th>std</th>\n",
       "      <td>0.0</td>\n",
       "      <td>1.015166</td>\n",
       "      <td>0.131566</td>\n",
       "      <td>13803.321533</td>\n",
       "      <td>0.520681</td>\n",
       "      <td>0.155291</td>\n",
       "      <td>0.056654</td>\n",
       "      <td>63.062151</td>\n",
       "      <td>48944.027074</td>\n",
       "      <td>89.188929</td>\n",
       "      <td>...</td>\n",
       "      <td>221.318891</td>\n",
       "      <td>21151.970827</td>\n",
       "      <td>0.499984</td>\n",
       "      <td>0.061855</td>\n",
       "      <td>0.334614</td>\n",
       "      <td>0.197316</td>\n",
       "      <td>0.234496</td>\n",
       "      <td>0.456791</td>\n",
       "      <td>4.562533</td>\n",
       "      <td>0.499975</td>\n",
       "    </tr>\n",
       "    <tr>\n",
       "      <th>min</th>\n",
       "      <td>0.0</td>\n",
       "      <td>0.000000</td>\n",
       "      <td>0.000000</td>\n",
       "      <td>39.000000</td>\n",
       "      <td>1.000000</td>\n",
       "      <td>0.000000</td>\n",
       "      <td>0.000000</td>\n",
       "      <td>1.000000</td>\n",
       "      <td>7.000000</td>\n",
       "      <td>1.000000</td>\n",
       "      <td>...</td>\n",
       "      <td>2.000000</td>\n",
       "      <td>121.000000</td>\n",
       "      <td>0.000000</td>\n",
       "      <td>0.000000</td>\n",
       "      <td>0.000000</td>\n",
       "      <td>0.000000</td>\n",
       "      <td>0.000000</td>\n",
       "      <td>0.000000</td>\n",
       "      <td>1.000000</td>\n",
       "      <td>0.000000</td>\n",
       "    </tr>\n",
       "    <tr>\n",
       "      <th>25%</th>\n",
       "      <td>0.0</td>\n",
       "      <td>7.000000</td>\n",
       "      <td>0.000000</td>\n",
       "      <td>49480.000000</td>\n",
       "      <td>1.000000</td>\n",
       "      <td>1.000000</td>\n",
       "      <td>1.000000</td>\n",
       "      <td>51.000000</td>\n",
       "      <td>36694.000000</td>\n",
       "      <td>89.000000</td>\n",
       "      <td>...</td>\n",
       "      <td>142.000000</td>\n",
       "      <td>13020.000000</td>\n",
       "      <td>0.000000</td>\n",
       "      <td>0.000000</td>\n",
       "      <td>0.000000</td>\n",
       "      <td>0.000000</td>\n",
       "      <td>0.000000</td>\n",
       "      <td>0.000000</td>\n",
       "      <td>3.000000</td>\n",
       "      <td>0.000000</td>\n",
       "    </tr>\n",
       "    <tr>\n",
       "      <th>50%</th>\n",
       "      <td>0.0</td>\n",
       "      <td>7.000000</td>\n",
       "      <td>0.000000</td>\n",
       "      <td>53447.000000</td>\n",
       "      <td>1.000000</td>\n",
       "      <td>1.000000</td>\n",
       "      <td>1.000000</td>\n",
       "      <td>97.000000</td>\n",
       "      <td>82373.000000</td>\n",
       "      <td>181.000000</td>\n",
       "      <td>...</td>\n",
       "      <td>500.000000</td>\n",
       "      <td>33066.000000</td>\n",
       "      <td>0.000000</td>\n",
       "      <td>0.000000</td>\n",
       "      <td>0.000000</td>\n",
       "      <td>0.000000</td>\n",
       "      <td>0.000000</td>\n",
       "      <td>0.000000</td>\n",
       "      <td>10.000000</td>\n",
       "      <td>1.000000</td>\n",
       "    </tr>\n",
       "    <tr>\n",
       "      <th>75%</th>\n",
       "      <td>0.0</td>\n",
       "      <td>7.000000</td>\n",
       "      <td>0.000000</td>\n",
       "      <td>53447.000000</td>\n",
       "      <td>2.000000</td>\n",
       "      <td>1.000000</td>\n",
       "      <td>1.000000</td>\n",
       "      <td>162.000000</td>\n",
       "      <td>122835.000000</td>\n",
       "      <td>267.000000</td>\n",
       "      <td>...</td>\n",
       "      <td>556.000000</td>\n",
       "      <td>52357.000000</td>\n",
       "      <td>1.000000</td>\n",
       "      <td>0.000000</td>\n",
       "      <td>0.000000</td>\n",
       "      <td>0.000000</td>\n",
       "      <td>0.000000</td>\n",
       "      <td>1.000000</td>\n",
       "      <td>11.000000</td>\n",
       "      <td>1.000000</td>\n",
       "    </tr>\n",
       "    <tr>\n",
       "      <th>max</th>\n",
       "      <td>0.0</td>\n",
       "      <td>8.000000</td>\n",
       "      <td>1.000000</td>\n",
       "      <td>70490.000000</td>\n",
       "      <td>5.000000</td>\n",
       "      <td>4.000000</td>\n",
       "      <td>1.000000</td>\n",
       "      <td>222.000000</td>\n",
       "      <td>167957.000000</td>\n",
       "      <td>296.000000</td>\n",
       "      <td>...</td>\n",
       "      <td>1083.000000</td>\n",
       "      <td>72091.000000</td>\n",
       "      <td>1.000000</td>\n",
       "      <td>1.000000</td>\n",
       "      <td>1.000000</td>\n",
       "      <td>1.000000</td>\n",
       "      <td>1.000000</td>\n",
       "      <td>1.000000</td>\n",
       "      <td>15.000000</td>\n",
       "      <td>1.000000</td>\n",
       "    </tr>\n",
       "  </tbody>\n",
       "</table>\n",
       "<p>8 rows × 48 columns</p>\n",
       "</div>"
      ],
      "text/plain": [
       "       IsBetaUser  RealTimeProtectionState  IsPassiveModeEnabled  \\\n",
       "count    100000.0             99934.000000         100000.000000   \n",
       "mean          0.0                 6.848430              0.017620   \n",
       "std           0.0                 1.015166              0.131566   \n",
       "min           0.0                 0.000000              0.000000   \n",
       "25%           0.0                 7.000000              0.000000   \n",
       "50%           0.0                 7.000000              0.000000   \n",
       "75%           0.0                 7.000000              0.000000   \n",
       "max           0.0                 8.000000              1.000000   \n",
       "\n",
       "       AntivirusConfigID  NumAntivirusProductsInstalled  \\\n",
       "count       99924.000000                   99924.000000   \n",
       "mean        47975.710440                       1.326528   \n",
       "std         13803.321533                       0.520681   \n",
       "min            39.000000                       1.000000   \n",
       "25%         49480.000000                       1.000000   \n",
       "50%         53447.000000                       1.000000   \n",
       "75%         53447.000000                       2.000000   \n",
       "max         70490.000000                       5.000000   \n",
       "\n",
       "       NumAntivirusProductsEnabled         HasTpm      CountryID  \\\n",
       "count                 99924.000000  100000.000000  100000.000000   \n",
       "mean                      1.018264       0.996780     108.078790   \n",
       "std                       0.155291       0.056654      63.062151   \n",
       "min                       0.000000       0.000000       1.000000   \n",
       "25%                       1.000000       1.000000      51.000000   \n",
       "50%                       1.000000       1.000000      97.000000   \n",
       "75%                       1.000000       1.000000     162.000000   \n",
       "max                       4.000000       1.000000     222.000000   \n",
       "\n",
       "              CityID    GeoRegionID  ...  FirmwareManufacturerID  \\\n",
       "count   99377.000000  100000.000000  ...            99624.000000   \n",
       "mean    81029.938587     169.741630  ...              401.987613   \n",
       "std     48944.027074      89.188929  ...              221.318891   \n",
       "min         7.000000       1.000000  ...                2.000000   \n",
       "25%     36694.000000      89.000000  ...              142.000000   \n",
       "50%     82373.000000     181.000000  ...              500.000000   \n",
       "75%    122835.000000     267.000000  ...              556.000000   \n",
       "max    167957.000000     296.000000  ...             1083.000000   \n",
       "\n",
       "       FirmwareVersionID  IsSecureBootEnabled  IsVirtualDevice  \\\n",
       "count       99666.000000        100000.000000     99980.000000   \n",
       "mean        32942.648044             0.495690         0.003841   \n",
       "std         21151.970827             0.499984         0.061855   \n",
       "min           121.000000             0.000000         0.000000   \n",
       "25%         13020.000000             0.000000         0.000000   \n",
       "50%         33066.000000             0.000000         0.000000   \n",
       "75%         52357.000000             1.000000         0.000000   \n",
       "max         72091.000000             1.000000         1.000000   \n",
       "\n",
       "       IsTouchEnabled   IsPenCapable  IsAlwaysOnAlwaysConnectedCapable  \\\n",
       "count   100000.000000  100000.000000                      99866.000000   \n",
       "mean         0.128470       0.040580                          0.058398   \n",
       "std          0.334614       0.197316                          0.234496   \n",
       "min          0.000000       0.000000                          0.000000   \n",
       "25%          0.000000       0.000000                          0.000000   \n",
       "50%          0.000000       0.000000                          0.000000   \n",
       "75%          0.000000       0.000000                          0.000000   \n",
       "max          1.000000       1.000000                          1.000000   \n",
       "\n",
       "            IsGamer  RegionIdentifier         target  \n",
       "count  99441.000000      99441.000000  100000.000000  \n",
       "mean       0.296668          7.875866       0.505250  \n",
       "std        0.456791          4.562533       0.499975  \n",
       "min        0.000000          1.000000       0.000000  \n",
       "25%        0.000000          3.000000       0.000000  \n",
       "50%        0.000000         10.000000       1.000000  \n",
       "75%        1.000000         11.000000       1.000000  \n",
       "max        1.000000         15.000000       1.000000  \n",
       "\n",
       "[8 rows x 48 columns]"
      ]
     },
     "execution_count": 5,
     "metadata": {},
     "output_type": "execute_result"
    }
   ],
   "source": [
    "df.describe()"
   ]
  },
  {
   "cell_type": "markdown",
   "id": "8578bbb8",
   "metadata": {
    "papermill": {
     "duration": 0.013192,
     "end_time": "2025-03-17T15:56:24.934196",
     "exception": false,
     "start_time": "2025-03-17T15:56:24.921004",
     "status": "completed"
    },
    "tags": []
   },
   "source": [
    "# Feature Engineering"
   ]
  },
  {
   "cell_type": "code",
   "execution_count": 6,
   "id": "89e2740a",
   "metadata": {
    "execution": {
     "iopub.execute_input": "2025-03-17T15:56:24.962820Z",
     "iopub.status.busy": "2025-03-17T15:56:24.962353Z",
     "iopub.status.idle": "2025-03-17T15:56:25.022781Z",
     "shell.execute_reply": "2025-03-17T15:56:25.021799Z"
    },
    "papermill": {
     "duration": 0.076836,
     "end_time": "2025-03-17T15:56:25.024789",
     "exception": false,
     "start_time": "2025-03-17T15:56:24.947953",
     "status": "completed"
    },
    "tags": []
   },
   "outputs": [],
   "source": [
    "df[\"DateAS\"] = pd.to_datetime(df[\"DateAS\"], errors=\"coerce\")\n",
    "df[\"DateOS\"] = pd.to_datetime(df[\"DateOS\"], errors=\"coerce\")\n",
    "\n",
    "reference_DateAS = df[\"DateAS\"].max()\n",
    "reference_DateOS = df[\"DateOS\"].max()\n",
    "\n",
    "df[\"DaysSinceAS\"] = (reference_DateAS - df[\"DateAS\"]).dt.days\n",
    "df[\"DaysSinceOS\"] = (reference_DateOS - df[\"DateOS\"]).dt.days\n",
    "\n",
    "\n",
    "X_test[\"DateAS\"] = pd.to_datetime(X_test[\"DateAS\"], errors=\"coerce\")\n",
    "X_test[\"DateOS\"] = pd.to_datetime(X_test[\"DateOS\"], errors=\"coerce\")\n",
    "\n",
    "reference_test_DateAS = X_test[\"DateAS\"].max()\n",
    "reference_test_DateOS = X_test[\"DateOS\"].max()\n",
    "\n",
    "X_test[\"DaysSinceAS\"] = (reference_test_DateAS - X_test[\"DateAS\"]).dt.days\n",
    "X_test[\"DaysSinceOS\"] = (reference_test_DateOS - X_test[\"DateOS\"]).dt.days"
   ]
  },
  {
   "cell_type": "code",
   "execution_count": 7,
   "id": "59baac98",
   "metadata": {
    "execution": {
     "iopub.execute_input": "2025-03-17T15:56:25.056607Z",
     "iopub.status.busy": "2025-03-17T15:56:25.056140Z",
     "iopub.status.idle": "2025-03-17T15:56:25.078508Z",
     "shell.execute_reply": "2025-03-17T15:56:25.077406Z"
    },
    "papermill": {
     "duration": 0.039033,
     "end_time": "2025-03-17T15:56:25.080203",
     "exception": false,
     "start_time": "2025-03-17T15:56:25.041170",
     "status": "completed"
    },
    "tags": []
   },
   "outputs": [
    {
     "name": "stdout",
     "output_type": "stream",
     "text": [
      "['EngineVersion', 'AppVersion', 'SignatureVersion', 'OSVersion', 'IEVersionID', 'NumericOSVersion', 'FirmwareVersionID']\n"
     ]
    },
    {
     "data": {
      "text/html": [
       "<div>\n",
       "<style scoped>\n",
       "    .dataframe tbody tr th:only-of-type {\n",
       "        vertical-align: middle;\n",
       "    }\n",
       "\n",
       "    .dataframe tbody tr th {\n",
       "        vertical-align: top;\n",
       "    }\n",
       "\n",
       "    .dataframe thead th {\n",
       "        text-align: right;\n",
       "    }\n",
       "</style>\n",
       "<table border=\"1\" class=\"dataframe\">\n",
       "  <thead>\n",
       "    <tr style=\"text-align: right;\">\n",
       "      <th></th>\n",
       "      <th>EngineVersion</th>\n",
       "      <th>AppVersion</th>\n",
       "      <th>SignatureVersion</th>\n",
       "      <th>OSVersion</th>\n",
       "      <th>IEVersionID</th>\n",
       "      <th>NumericOSVersion</th>\n",
       "      <th>FirmwareVersionID</th>\n",
       "    </tr>\n",
       "  </thead>\n",
       "  <tbody>\n",
       "    <tr>\n",
       "      <th>0</th>\n",
       "      <td>1.1.15200.1</td>\n",
       "      <td>4.18.1807.18075</td>\n",
       "      <td>1.275.1003.0</td>\n",
       "      <td>10.0.0.0</td>\n",
       "      <td>98.0</td>\n",
       "      <td>10.0.14393.2214</td>\n",
       "      <td>21964.0</td>\n",
       "    </tr>\n",
       "    <tr>\n",
       "      <th>1</th>\n",
       "      <td>1.1.15100.1</td>\n",
       "      <td>4.18.1807.18075</td>\n",
       "      <td>1.273.1465.0</td>\n",
       "      <td>10.0.0.0</td>\n",
       "      <td>137.0</td>\n",
       "      <td>10.0.17134.228</td>\n",
       "      <td>44548.0</td>\n",
       "    </tr>\n",
       "    <tr>\n",
       "      <th>2</th>\n",
       "      <td>1.1.15200.1</td>\n",
       "      <td>4.18.1807.18075</td>\n",
       "      <td>1.275.1546.0</td>\n",
       "      <td>10.0.0.0</td>\n",
       "      <td>137.0</td>\n",
       "      <td>10.0.17134.285</td>\n",
       "      <td>9414.0</td>\n",
       "    </tr>\n",
       "    <tr>\n",
       "      <th>3</th>\n",
       "      <td>1.1.15200.1</td>\n",
       "      <td>4.12.17007.18011</td>\n",
       "      <td>1.275.1141.0</td>\n",
       "      <td>10.0.0.0</td>\n",
       "      <td>108.0</td>\n",
       "      <td>10.0.15063.850</td>\n",
       "      <td>33060.0</td>\n",
       "    </tr>\n",
       "    <tr>\n",
       "      <th>4</th>\n",
       "      <td>1.1.15200.1</td>\n",
       "      <td>4.13.17134.228</td>\n",
       "      <td>1.275.1283.0</td>\n",
       "      <td>10.0.0.0</td>\n",
       "      <td>137.0</td>\n",
       "      <td>10.0.17134.285</td>\n",
       "      <td>13224.0</td>\n",
       "    </tr>\n",
       "    <tr>\n",
       "      <th>...</th>\n",
       "      <td>...</td>\n",
       "      <td>...</td>\n",
       "      <td>...</td>\n",
       "      <td>...</td>\n",
       "      <td>...</td>\n",
       "      <td>...</td>\n",
       "      <td>...</td>\n",
       "    </tr>\n",
       "    <tr>\n",
       "      <th>99995</th>\n",
       "      <td>1.1.15200.1</td>\n",
       "      <td>4.18.1807.18075</td>\n",
       "      <td>1.275.1582.0</td>\n",
       "      <td>10.0.0.0</td>\n",
       "      <td>117.0</td>\n",
       "      <td>10.0.17134.319</td>\n",
       "      <td>25740.0</td>\n",
       "    </tr>\n",
       "    <tr>\n",
       "      <th>99996</th>\n",
       "      <td>1.1.15100.1</td>\n",
       "      <td>4.18.1806.18062</td>\n",
       "      <td>1.273.1156.0</td>\n",
       "      <td>10.0.0.0</td>\n",
       "      <td>137.0</td>\n",
       "      <td>10.0.17134.165</td>\n",
       "      <td>20900.0</td>\n",
       "    </tr>\n",
       "    <tr>\n",
       "      <th>99997</th>\n",
       "      <td>1.1.15200.1</td>\n",
       "      <td>4.18.1807.18075</td>\n",
       "      <td>1.275.209.0</td>\n",
       "      <td>10.0.0.0</td>\n",
       "      <td>111.0</td>\n",
       "      <td>10.0.16299.309</td>\n",
       "      <td>51605.0</td>\n",
       "    </tr>\n",
       "    <tr>\n",
       "      <th>99998</th>\n",
       "      <td>1.1.14901.4</td>\n",
       "      <td>4.16.17656.18052</td>\n",
       "      <td>1.269.641.0</td>\n",
       "      <td>10.0.0.0</td>\n",
       "      <td>137.0</td>\n",
       "      <td>10.0.17134.48</td>\n",
       "      <td>18669.0</td>\n",
       "    </tr>\n",
       "    <tr>\n",
       "      <th>99999</th>\n",
       "      <td>1.1.15000.2</td>\n",
       "      <td>4.18.1806.18062</td>\n",
       "      <td>1.271.1003.0</td>\n",
       "      <td>10.0.0.0</td>\n",
       "      <td>137.0</td>\n",
       "      <td>10.0.17134.228</td>\n",
       "      <td>7203.0</td>\n",
       "    </tr>\n",
       "  </tbody>\n",
       "</table>\n",
       "<p>100000 rows × 7 columns</p>\n",
       "</div>"
      ],
      "text/plain": [
       "      EngineVersion        AppVersion SignatureVersion OSVersion  IEVersionID  \\\n",
       "0       1.1.15200.1   4.18.1807.18075     1.275.1003.0  10.0.0.0         98.0   \n",
       "1       1.1.15100.1   4.18.1807.18075     1.273.1465.0  10.0.0.0        137.0   \n",
       "2       1.1.15200.1   4.18.1807.18075     1.275.1546.0  10.0.0.0        137.0   \n",
       "3       1.1.15200.1  4.12.17007.18011     1.275.1141.0  10.0.0.0        108.0   \n",
       "4       1.1.15200.1    4.13.17134.228     1.275.1283.0  10.0.0.0        137.0   \n",
       "...             ...               ...              ...       ...          ...   \n",
       "99995   1.1.15200.1   4.18.1807.18075     1.275.1582.0  10.0.0.0        117.0   \n",
       "99996   1.1.15100.1   4.18.1806.18062     1.273.1156.0  10.0.0.0        137.0   \n",
       "99997   1.1.15200.1   4.18.1807.18075      1.275.209.0  10.0.0.0        111.0   \n",
       "99998   1.1.14901.4  4.16.17656.18052      1.269.641.0  10.0.0.0        137.0   \n",
       "99999   1.1.15000.2   4.18.1806.18062     1.271.1003.0  10.0.0.0        137.0   \n",
       "\n",
       "      NumericOSVersion  FirmwareVersionID  \n",
       "0      10.0.14393.2214            21964.0  \n",
       "1       10.0.17134.228            44548.0  \n",
       "2       10.0.17134.285             9414.0  \n",
       "3       10.0.15063.850            33060.0  \n",
       "4       10.0.17134.285            13224.0  \n",
       "...                ...                ...  \n",
       "99995   10.0.17134.319            25740.0  \n",
       "99996   10.0.17134.165            20900.0  \n",
       "99997   10.0.16299.309            51605.0  \n",
       "99998    10.0.17134.48            18669.0  \n",
       "99999   10.0.17134.228             7203.0  \n",
       "\n",
       "[100000 rows x 7 columns]"
      ]
     },
     "execution_count": 7,
     "metadata": {},
     "output_type": "execute_result"
    }
   ],
   "source": [
    "version_columns = []\n",
    "for col in df.columns:\n",
    "    if \"version\" in col.lower():\n",
    "        version_columns.append(col)\n",
    "print(version_columns)\n",
    "df[version_columns]"
   ]
  },
  {
   "cell_type": "code",
   "execution_count": 8,
   "id": "1e381916",
   "metadata": {
    "execution": {
     "iopub.execute_input": "2025-03-17T15:56:25.108946Z",
     "iopub.status.busy": "2025-03-17T15:56:25.108547Z",
     "iopub.status.idle": "2025-03-17T15:56:25.923925Z",
     "shell.execute_reply": "2025-03-17T15:56:25.922735Z"
    },
    "papermill": {
     "duration": 0.83223,
     "end_time": "2025-03-17T15:56:25.926075",
     "exception": false,
     "start_time": "2025-03-17T15:56:25.093845",
     "status": "completed"
    },
    "tags": []
   },
   "outputs": [],
   "source": [
    "def version_to_integer(version):\n",
    "    if pd.isna(version):\n",
    "        return np.nan\n",
    "    if isinstance(version, str):\n",
    "        return int(str(version).replace(\".\", \"\"))\n",
    "    return version\n",
    "\n",
    "for col in version_columns:\n",
    "    df[col] = df[col].apply(version_to_integer)\n",
    "    X_test[col] = X_test[col].apply(version_to_integer)"
   ]
  },
  {
   "cell_type": "code",
   "execution_count": 9,
   "id": "1544f297",
   "metadata": {
    "execution": {
     "iopub.execute_input": "2025-03-17T15:56:25.957301Z",
     "iopub.status.busy": "2025-03-17T15:56:25.956924Z",
     "iopub.status.idle": "2025-03-17T15:56:25.973303Z",
     "shell.execute_reply": "2025-03-17T15:56:25.972190Z"
    },
    "papermill": {
     "duration": 0.033619,
     "end_time": "2025-03-17T15:56:25.975041",
     "exception": false,
     "start_time": "2025-03-17T15:56:25.941422",
     "status": "completed"
    },
    "tags": []
   },
   "outputs": [
    {
     "data": {
      "text/html": [
       "<div>\n",
       "<style scoped>\n",
       "    .dataframe tbody tr th:only-of-type {\n",
       "        vertical-align: middle;\n",
       "    }\n",
       "\n",
       "    .dataframe tbody tr th {\n",
       "        vertical-align: top;\n",
       "    }\n",
       "\n",
       "    .dataframe thead th {\n",
       "        text-align: right;\n",
       "    }\n",
       "</style>\n",
       "<table border=\"1\" class=\"dataframe\">\n",
       "  <thead>\n",
       "    <tr style=\"text-align: right;\">\n",
       "      <th></th>\n",
       "      <th>EngineVersion</th>\n",
       "      <th>AppVersion</th>\n",
       "      <th>SignatureVersion</th>\n",
       "      <th>OSVersion</th>\n",
       "      <th>IEVersionID</th>\n",
       "      <th>NumericOSVersion</th>\n",
       "      <th>FirmwareVersionID</th>\n",
       "    </tr>\n",
       "  </thead>\n",
       "  <tbody>\n",
       "    <tr>\n",
       "      <th>0</th>\n",
       "      <td>11152001</td>\n",
       "      <td>418180718075</td>\n",
       "      <td>127510030</td>\n",
       "      <td>10000</td>\n",
       "      <td>98.0</td>\n",
       "      <td>100143932214</td>\n",
       "      <td>21964.0</td>\n",
       "    </tr>\n",
       "    <tr>\n",
       "      <th>1</th>\n",
       "      <td>11151001</td>\n",
       "      <td>418180718075</td>\n",
       "      <td>127314650</td>\n",
       "      <td>10000</td>\n",
       "      <td>137.0</td>\n",
       "      <td>10017134228</td>\n",
       "      <td>44548.0</td>\n",
       "    </tr>\n",
       "    <tr>\n",
       "      <th>2</th>\n",
       "      <td>11152001</td>\n",
       "      <td>418180718075</td>\n",
       "      <td>127515460</td>\n",
       "      <td>10000</td>\n",
       "      <td>137.0</td>\n",
       "      <td>10017134285</td>\n",
       "      <td>9414.0</td>\n",
       "    </tr>\n",
       "    <tr>\n",
       "      <th>3</th>\n",
       "      <td>11152001</td>\n",
       "      <td>4121700718011</td>\n",
       "      <td>127511410</td>\n",
       "      <td>10000</td>\n",
       "      <td>108.0</td>\n",
       "      <td>10015063850</td>\n",
       "      <td>33060.0</td>\n",
       "    </tr>\n",
       "    <tr>\n",
       "      <th>4</th>\n",
       "      <td>11152001</td>\n",
       "      <td>41317134228</td>\n",
       "      <td>127512830</td>\n",
       "      <td>10000</td>\n",
       "      <td>137.0</td>\n",
       "      <td>10017134285</td>\n",
       "      <td>13224.0</td>\n",
       "    </tr>\n",
       "    <tr>\n",
       "      <th>...</th>\n",
       "      <td>...</td>\n",
       "      <td>...</td>\n",
       "      <td>...</td>\n",
       "      <td>...</td>\n",
       "      <td>...</td>\n",
       "      <td>...</td>\n",
       "      <td>...</td>\n",
       "    </tr>\n",
       "    <tr>\n",
       "      <th>99995</th>\n",
       "      <td>11152001</td>\n",
       "      <td>418180718075</td>\n",
       "      <td>127515820</td>\n",
       "      <td>10000</td>\n",
       "      <td>117.0</td>\n",
       "      <td>10017134319</td>\n",
       "      <td>25740.0</td>\n",
       "    </tr>\n",
       "    <tr>\n",
       "      <th>99996</th>\n",
       "      <td>11151001</td>\n",
       "      <td>418180618062</td>\n",
       "      <td>127311560</td>\n",
       "      <td>10000</td>\n",
       "      <td>137.0</td>\n",
       "      <td>10017134165</td>\n",
       "      <td>20900.0</td>\n",
       "    </tr>\n",
       "    <tr>\n",
       "      <th>99997</th>\n",
       "      <td>11152001</td>\n",
       "      <td>418180718075</td>\n",
       "      <td>12752090</td>\n",
       "      <td>10000</td>\n",
       "      <td>111.0</td>\n",
       "      <td>10016299309</td>\n",
       "      <td>51605.0</td>\n",
       "    </tr>\n",
       "    <tr>\n",
       "      <th>99998</th>\n",
       "      <td>11149014</td>\n",
       "      <td>4161765618052</td>\n",
       "      <td>12696410</td>\n",
       "      <td>10000</td>\n",
       "      <td>137.0</td>\n",
       "      <td>1001713448</td>\n",
       "      <td>18669.0</td>\n",
       "    </tr>\n",
       "    <tr>\n",
       "      <th>99999</th>\n",
       "      <td>11150002</td>\n",
       "      <td>418180618062</td>\n",
       "      <td>127110030</td>\n",
       "      <td>10000</td>\n",
       "      <td>137.0</td>\n",
       "      <td>10017134228</td>\n",
       "      <td>7203.0</td>\n",
       "    </tr>\n",
       "  </tbody>\n",
       "</table>\n",
       "<p>100000 rows × 7 columns</p>\n",
       "</div>"
      ],
      "text/plain": [
       "       EngineVersion     AppVersion  SignatureVersion  OSVersion  IEVersionID  \\\n",
       "0           11152001   418180718075         127510030      10000         98.0   \n",
       "1           11151001   418180718075         127314650      10000        137.0   \n",
       "2           11152001   418180718075         127515460      10000        137.0   \n",
       "3           11152001  4121700718011         127511410      10000        108.0   \n",
       "4           11152001    41317134228         127512830      10000        137.0   \n",
       "...              ...            ...               ...        ...          ...   \n",
       "99995       11152001   418180718075         127515820      10000        117.0   \n",
       "99996       11151001   418180618062         127311560      10000        137.0   \n",
       "99997       11152001   418180718075          12752090      10000        111.0   \n",
       "99998       11149014  4161765618052          12696410      10000        137.0   \n",
       "99999       11150002   418180618062         127110030      10000        137.0   \n",
       "\n",
       "       NumericOSVersion  FirmwareVersionID  \n",
       "0          100143932214            21964.0  \n",
       "1           10017134228            44548.0  \n",
       "2           10017134285             9414.0  \n",
       "3           10015063850            33060.0  \n",
       "4           10017134285            13224.0  \n",
       "...                 ...                ...  \n",
       "99995       10017134319            25740.0  \n",
       "99996       10017134165            20900.0  \n",
       "99997       10016299309            51605.0  \n",
       "99998        1001713448            18669.0  \n",
       "99999       10017134228             7203.0  \n",
       "\n",
       "[100000 rows x 7 columns]"
      ]
     },
     "execution_count": 9,
     "metadata": {},
     "output_type": "execute_result"
    }
   ],
   "source": [
    "df[version_columns]"
   ]
  },
  {
   "cell_type": "markdown",
   "id": "35537bd9",
   "metadata": {
    "papermill": {
     "duration": 0.013453,
     "end_time": "2025-03-17T15:56:26.002696",
     "exception": false,
     "start_time": "2025-03-17T15:56:25.989243",
     "status": "completed"
    },
    "tags": []
   },
   "source": [
    "# Dimensionality Reduction"
   ]
  },
  {
   "cell_type": "code",
   "execution_count": 10,
   "id": "9fee00e1",
   "metadata": {
    "execution": {
     "iopub.execute_input": "2025-03-17T15:56:26.033304Z",
     "iopub.status.busy": "2025-03-17T15:56:26.032795Z",
     "iopub.status.idle": "2025-03-17T15:56:26.540249Z",
     "shell.execute_reply": "2025-03-17T15:56:26.539153Z"
    },
    "papermill": {
     "duration": 0.524974,
     "end_time": "2025-03-17T15:56:26.541975",
     "exception": false,
     "start_time": "2025-03-17T15:56:26.017001",
     "status": "completed"
    },
    "tags": []
   },
   "outputs": [
    {
     "name": "stdout",
     "output_type": "stream",
     "text": [
      "\"CityID\", \"OEMModelID\", \"SystemVolumeCapacityMB\", "
     ]
    }
   ],
   "source": [
    "for col in df.columns:\n",
    "    if len(df[col].unique()) > 15000:\n",
    "        corr = df.groupby(col)[\"target\"].mean().corr(df[\"target\"])\n",
    "        if abs(corr) < .05:\n",
    "            print(f'\"{col}\"', end=\", \")"
   ]
  },
  {
   "cell_type": "code",
   "execution_count": 11,
   "id": "d8cb418f",
   "metadata": {
    "execution": {
     "iopub.execute_input": "2025-03-17T15:56:26.571530Z",
     "iopub.status.busy": "2025-03-17T15:56:26.571111Z",
     "iopub.status.idle": "2025-03-17T15:56:26.603291Z",
     "shell.execute_reply": "2025-03-17T15:56:26.602106Z"
    },
    "papermill": {
     "duration": 0.048983,
     "end_time": "2025-03-17T15:56:26.605286",
     "exception": false,
     "start_time": "2025-03-17T15:56:26.556303",
     "status": "completed"
    },
    "tags": []
   },
   "outputs": [
    {
     "data": {
      "text/plain": [
       "((100000, 67), (10000, 66))"
      ]
     },
     "execution_count": 11,
     "metadata": {},
     "output_type": "execute_result"
    }
   ],
   "source": [
    "unnecessary_features = [\n",
    "    \"MachineID\", \"ProductName\", \"IsBetaUser\", \"CityID\", \"AutoSampleSubmissionEnabled\",\n",
    "    \"IsFlightsDisabled\", \"OSBuildLab\", \"OEMModelID\", \"SystemVolumeCapacityMB\", \"DateAS\", \"DateOS\",\n",
    "    \n",
    "]\n",
    "df = df.drop(columns=unnecessary_features)\n",
    "X_test = X_test.drop(columns=unnecessary_features)\n",
    "df.shape, X_test.shape"
   ]
  },
  {
   "cell_type": "code",
   "execution_count": 12,
   "id": "9018e8ea",
   "metadata": {
    "execution": {
     "iopub.execute_input": "2025-03-17T15:56:26.635504Z",
     "iopub.status.busy": "2025-03-17T15:56:26.635091Z",
     "iopub.status.idle": "2025-03-17T15:56:26.675314Z",
     "shell.execute_reply": "2025-03-17T15:56:26.674055Z"
    },
    "papermill": {
     "duration": 0.057518,
     "end_time": "2025-03-17T15:56:26.677078",
     "exception": false,
     "start_time": "2025-03-17T15:56:26.619560",
     "status": "completed"
    },
    "tags": []
   },
   "outputs": [
    {
     "data": {
      "text/plain": [
       "(49475, 50525)"
      ]
     },
     "execution_count": 12,
     "metadata": {},
     "output_type": "execute_result"
    }
   ],
   "source": [
    "df[df[\"target\"] == 0].shape[0], df[df[\"target\"] == 1].shape[0]"
   ]
  },
  {
   "cell_type": "code",
   "execution_count": 13,
   "id": "53f8a4d5",
   "metadata": {
    "execution": {
     "iopub.execute_input": "2025-03-17T15:56:26.706748Z",
     "iopub.status.busy": "2025-03-17T15:56:26.706317Z",
     "iopub.status.idle": "2025-03-17T15:56:26.730583Z",
     "shell.execute_reply": "2025-03-17T15:56:26.729406Z"
    },
    "papermill": {
     "duration": 0.041015,
     "end_time": "2025-03-17T15:56:26.732414",
     "exception": false,
     "start_time": "2025-03-17T15:56:26.691399",
     "status": "completed"
    },
    "tags": []
   },
   "outputs": [],
   "source": [
    "X = df.drop(columns=[\"target\"])\n",
    "y = df[\"target\"]"
   ]
  },
  {
   "cell_type": "markdown",
   "id": "683dc475",
   "metadata": {
    "papermill": {
     "duration": 0.014543,
     "end_time": "2025-03-17T15:56:26.761074",
     "exception": false,
     "start_time": "2025-03-17T15:56:26.746531",
     "status": "completed"
    },
    "tags": []
   },
   "source": [
    "# EDA"
   ]
  },
  {
   "cell_type": "code",
   "execution_count": 14,
   "id": "506e182d",
   "metadata": {
    "execution": {
     "iopub.execute_input": "2025-03-17T15:56:26.791581Z",
     "iopub.status.busy": "2025-03-17T15:56:26.791178Z",
     "iopub.status.idle": "2025-03-17T15:56:28.534340Z",
     "shell.execute_reply": "2025-03-17T15:56:28.533443Z"
    },
    "papermill": {
     "duration": 1.760507,
     "end_time": "2025-03-17T15:56:28.536203",
     "exception": false,
     "start_time": "2025-03-17T15:56:26.775696",
     "status": "completed"
    },
    "tags": []
   },
   "outputs": [],
   "source": [
    "import seaborn as sns\n",
    "import matplotlib.pyplot as plt"
   ]
  },
  {
   "cell_type": "code",
   "execution_count": 15,
   "id": "b3f1e542",
   "metadata": {
    "execution": {
     "iopub.execute_input": "2025-03-17T15:56:28.566547Z",
     "iopub.status.busy": "2025-03-17T15:56:28.566026Z",
     "iopub.status.idle": "2025-03-17T15:56:28.809764Z",
     "shell.execute_reply": "2025-03-17T15:56:28.808622Z"
    },
    "papermill": {
     "duration": 0.261053,
     "end_time": "2025-03-17T15:56:28.811791",
     "exception": false,
     "start_time": "2025-03-17T15:56:28.550738",
     "status": "completed"
    },
    "tags": []
   },
   "outputs": [
    {
     "data": {
      "image/png": "[encoded data removed]",
      "text/plain": [
       "<Figure size 640x480 with 1 Axes>"
      ]
     },
     "metadata": {},
     "output_type": "display_data"
    }
   ],
   "source": [
    "sns.countplot(x=\"target\", data=df)\n",
    "plt.title(\"Target Variable Distribution\")\n",
    "plt.show()"
   ]
  },
  {
   "cell_type": "code",
   "execution_count": 16,
   "id": "96421c43",
   "metadata": {
    "execution": {
     "iopub.execute_input": "2025-03-17T15:56:28.842387Z",
     "iopub.status.busy": "2025-03-17T15:56:28.842005Z",
     "iopub.status.idle": "2025-03-17T15:56:30.363083Z",
     "shell.execute_reply": "2025-03-17T15:56:30.361808Z"
    },
    "papermill": {
     "duration": 1.540589,
     "end_time": "2025-03-17T15:56:30.366971",
     "exception": false,
     "start_time": "2025-03-17T15:56:28.826382",
     "status": "completed"
    },
    "tags": []
   },
   "outputs": [
    {
     "data": {
      "image/png": "[encoded data removed]",
      "text/plain": [
       "<Figure size 800x1000 with 2 Axes>"
      ]
     },
     "metadata": {},
     "output_type": "display_data"
    }
   ],
   "source": [
    "numeric_df = df.select_dtypes(include=[\"int64\", \"float64\"])\n",
    "\n",
    "plt.figure(figsize=(8, 10))\n",
    "target_corr = numeric_df.corr()[[\"target\"]].sort_values(\"target\", ascending=False)\n",
    "sns.heatmap(target_corr, annot=True, cmap=\"coolwarm\", mask=target_corr.isna())\n",
    "plt.title(\"Feature Correlation Heatmap\")\n",
    "plt.show()"
   ]
  },
  {
   "cell_type": "code",
   "execution_count": 17,
   "id": "39aee6c9",
   "metadata": {
    "execution": {
     "iopub.execute_input": "2025-03-17T15:56:30.406073Z",
     "iopub.status.busy": "2025-03-17T15:56:30.405674Z",
     "iopub.status.idle": "2025-03-17T15:56:32.154561Z",
     "shell.execute_reply": "2025-03-17T15:56:32.153435Z"
    },
    "papermill": {
     "duration": 1.771321,
     "end_time": "2025-03-17T15:56:32.157024",
     "exception": false,
     "start_time": "2025-03-17T15:56:30.385703",
     "status": "completed"
    },
    "tags": []
   },
   "outputs": [
    {
     "data": {
      "image/png": "[encoded data removed]",
      "text/plain": [
       "<Figure size 1000x400 with 1 Axes>"
      ]
     },
     "metadata": {},
     "output_type": "display_data"
    }
   ],
   "source": [
    "plt.figure(figsize=(10, 4))\n",
    "sns.boxplot(data=numeric_df)\n",
    "plt.xticks(rotation=90)\n",
    "plt.title(\"Outliers\")\n",
    "plt.show()"
   ]
  },
  {
   "cell_type": "markdown",
   "id": "b8b793c3",
   "metadata": {
    "papermill": {
     "duration": 0.020509,
     "end_time": "2025-03-17T15:56:32.198796",
     "exception": false,
     "start_time": "2025-03-17T15:56:32.178287",
     "status": "completed"
    },
    "tags": []
   },
   "source": [
    "# Train Validation Split"
   ]
  },
  {
   "cell_type": "code",
   "execution_count": 18,
   "id": "20b74697",
   "metadata": {
    "execution": {
     "iopub.execute_input": "2025-03-17T15:56:32.241400Z",
     "iopub.status.busy": "2025-03-17T15:56:32.241064Z",
     "iopub.status.idle": "2025-03-17T15:56:32.541779Z",
     "shell.execute_reply": "2025-03-17T15:56:32.540520Z"
    },
    "papermill": {
     "duration": 0.324356,
     "end_time": "2025-03-17T15:56:32.543847",
     "exception": false,
     "start_time": "2025-03-17T15:56:32.219491",
     "status": "completed"
    },
    "tags": []
   },
   "outputs": [],
   "source": [
    "from sklearn.model_selection import train_test_split"
   ]
  },
  {
   "cell_type": "code",
   "execution_count": 19,
   "id": "cc9196de",
   "metadata": {
    "execution": {
     "iopub.execute_input": "2025-03-17T15:56:32.587530Z",
     "iopub.status.busy": "2025-03-17T15:56:32.587117Z",
     "iopub.status.idle": "2025-03-17T15:56:32.692758Z",
     "shell.execute_reply": "2025-03-17T15:56:32.691615Z"
    },
    "papermill": {
     "duration": 0.129265,
     "end_time": "2025-03-17T15:56:32.694588",
     "exception": false,
     "start_time": "2025-03-17T15:56:32.565323",
     "status": "completed"
    },
    "tags": []
   },
   "outputs": [
    {
     "data": {
      "text/plain": [
       "((80000, 66), (80000,), (20000, 66), (20000,))"
      ]
     },
     "execution_count": 19,
     "metadata": {},
     "output_type": "execute_result"
    }
   ],
   "source": [
    "X = df.drop(columns=[\"target\"])\n",
    "y = df[\"target\"]\n",
    "X_train, X_val, y_train, y_val = train_test_split(X, y, test_size=.2, random_state=42)\n",
    "X_train.shape, y_train.shape, X_val.shape, y_val.shape"
   ]
  },
  {
   "cell_type": "markdown",
   "id": "3c318320",
   "metadata": {
    "papermill": {
     "duration": 0.021475,
     "end_time": "2025-03-17T15:56:32.737370",
     "exception": false,
     "start_time": "2025-03-17T15:56:32.715895",
     "status": "completed"
    },
    "tags": []
   },
   "source": [
    "# Pre Processing"
   ]
  },
  {
   "cell_type": "code",
   "execution_count": 20,
   "id": "25724780",
   "metadata": {
    "execution": {
     "iopub.execute_input": "2025-03-17T15:56:32.781835Z",
     "iopub.status.busy": "2025-03-17T15:56:32.781405Z",
     "iopub.status.idle": "2025-03-17T15:56:33.033505Z",
     "shell.execute_reply": "2025-03-17T15:56:33.032214Z"
    },
    "papermill": {
     "duration": 0.277095,
     "end_time": "2025-03-17T15:56:33.035719",
     "exception": false,
     "start_time": "2025-03-17T15:56:32.758624",
     "status": "completed"
    },
    "tags": []
   },
   "outputs": [],
   "source": [
    "from sklearn.impute import SimpleImputer\n",
    "from sklearn.preprocessing import OneHotEncoder, StandardScaler\n",
    "from sklearn.pipeline import Pipeline\n",
    "from sklearn.compose import ColumnTransformer"
   ]
  },
  {
   "cell_type": "code",
   "execution_count": 21,
   "id": "9a0b57b9",
   "metadata": {
    "execution": {
     "iopub.execute_input": "2025-03-17T15:56:33.083088Z",
     "iopub.status.busy": "2025-03-17T15:56:33.082727Z",
     "iopub.status.idle": "2025-03-17T15:56:33.235756Z",
     "shell.execute_reply": "2025-03-17T15:56:33.234733Z"
    },
    "papermill": {
     "duration": 0.179924,
     "end_time": "2025-03-17T15:56:33.237400",
     "exception": false,
     "start_time": "2025-03-17T15:56:33.057476",
     "status": "completed"
    },
    "tags": []
   },
   "outputs": [
    {
     "data": {
      "text/html": [
       "<style>#sk-container-id-1 {color: black;background-color: white;}#sk-container-id-1 pre{padding: 0;}#sk-container-id-1 div.sk-toggleable {background-color: white;}#sk-container-id-1 label.sk-toggleable__label {cursor: pointer;display: block;width: 100%;margin-bottom: 0;padding: 0.3em;box-sizing: border-box;text-align: center;}#sk-container-id-1 label.sk-toggleable__label-arrow:before {content: \"▸\";float: left;margin-right: 0.25em;color: #696969;}#sk-container-id-1 label.sk-toggleable__label-arrow:hover:before {color: black;}#sk-container-id-1 div.sk-estimator:hover label.sk-toggleable__label-arrow:before {color: black;}#sk-container-id-1 div.sk-toggleable__content {max-height: 0;max-width: 0;overflow: hidden;text-align: left;background-color: #f0f8ff;}#sk-container-id-1 div.sk-toggleable__content pre {margin: 0.2em;color: black;border-radius: 0.25em;background-color: #f0f8ff;}#sk-container-id-1 input.sk-toggleable__control:checked~div.sk-toggleable__content {max-height: 200px;max-width: 100%;overflow: auto;}#sk-container-id-1 input.sk-toggleable__control:checked~label.sk-toggleable__label-arrow:before {content: \"▾\";}#sk-container-id-1 div.sk-estimator input.sk-toggleable__control:checked~label.sk-toggleable__label {background-color: #d4ebff;}#sk-container-id-1 div.sk-label input.sk-toggleable__control:checked~label.sk-toggleable__label {background-color: #d4ebff;}#sk-container-id-1 input.sk-hidden--visually {border: 0;clip: rect(1px 1px 1px 1px);clip: rect(1px, 1px, 1px, 1px);height: 1px;margin: -1px;overflow: hidden;padding: 0;position: absolute;width: 1px;}#sk-container-id-1 div.sk-estimator {font-family: monospace;background-color: #f0f8ff;border: 1px dotted black;border-radius: 0.25em;box-sizing: border-box;margin-bottom: 0.5em;}#sk-container-id-1 div.sk-estimator:hover {background-color: #d4ebff;}#sk-container-id-1 div.sk-parallel-item::after {content: \"\";width: 100%;border-bottom: 1px solid gray;flex-grow: 1;}#sk-container-id-1 div.sk-label:hover label.sk-toggleable__label {background-color: #d4ebff;}#sk-container-id-1 div.sk-serial::before {content: \"\";position: absolute;border-left: 1px solid gray;box-sizing: border-box;top: 0;bottom: 0;left: 50%;z-index: 0;}#sk-container-id-1 div.sk-serial {display: flex;flex-direction: column;align-items: center;background-color: white;padding-right: 0.2em;padding-left: 0.2em;position: relative;}#sk-container-id-1 div.sk-item {position: relative;z-index: 1;}#sk-container-id-1 div.sk-parallel {display: flex;align-items: stretch;justify-content: center;background-color: white;position: relative;}#sk-container-id-1 div.sk-item::before, #sk-container-id-1 div.sk-parallel-item::before {content: \"\";position: absolute;border-left: 1px solid gray;box-sizing: border-box;top: 0;bottom: 0;left: 50%;z-index: -1;}#sk-container-id-1 div.sk-parallel-item {display: flex;flex-direction: column;z-index: 1;position: relative;background-color: white;}#sk-container-id-1 div.sk-parallel-item:first-child::after {align-self: flex-end;width: 50%;}#sk-container-id-1 div.sk-parallel-item:last-child::after {align-self: flex-start;width: 50%;}#sk-container-id-1 div.sk-parallel-item:only-child::after {width: 0;}#sk-container-id-1 div.sk-dashed-wrapped {border: 1px dashed gray;margin: 0 0.4em 0.5em 0.4em;box-sizing: border-box;padding-bottom: 0.4em;background-color: white;}#sk-container-id-1 div.sk-label label {font-family: monospace;font-weight: bold;display: inline-block;line-height: 1.2em;}#sk-container-id-1 div.sk-label-container {text-align: center;}#sk-container-id-1 div.sk-container {/* jupyter's `normalize.less` sets `[hidden] { display: none; }` but bootstrap.min.css set `[hidden] { display: none !important; }` so we also need the `!important` here to be able to override the default hidden behavior on the sphinx rendered scikit-learn.org. See: https://github.com/scikit-learn/scikit-learn/issues/21755 */display: inline-block !important;position: relative;}#sk-container-id-1 div.sk-text-repr-fallback {display: none;}</style><div id=\"sk-container-id-1\" class=\"sk-top-container\"><div class=\"sk-text-repr-fallback\"><pre>ColumnTransformer(transformers=[(&#x27;num&#x27;,\n",
       "                                 Pipeline(steps=[(&#x27;imputer&#x27;, SimpleImputer()),\n",
       "                                                 (&#x27;scaler&#x27;, StandardScaler())]),\n",
       "                                 Index([&#x27;EngineVersion&#x27;, &#x27;AppVersion&#x27;, &#x27;SignatureVersion&#x27;,\n",
       "       &#x27;RealTimeProtectionState&#x27;, &#x27;IsPassiveModeEnabled&#x27;, &#x27;AntivirusConfigID&#x27;,\n",
       "       &#x27;NumAntivirusProductsInstalled&#x27;, &#x27;NumAntivirusProductsEnabled&#x27;,\n",
       "       &#x27;HasTpm&#x27;, &#x27;CountryID&#x27;, &#x27;GeoRegionID&#x27;, &#x27;LocaleEnglishNa...\n",
       "                                                  OneHotEncoder(handle_unknown=&#x27;ignore&#x27;))]),\n",
       "                                 Index([&#x27;PlatformType&#x27;, &#x27;Processor&#x27;, &#x27;OsPlatformSubRelease&#x27;, &#x27;SKUEditionName&#x27;,\n",
       "       &#x27;MDC2FormFactor&#x27;, &#x27;DeviceFamily&#x27;, &#x27;PrimaryDiskType&#x27;, &#x27;ChassisType&#x27;,\n",
       "       &#x27;PowerPlatformRole&#x27;, &#x27;OSArchitecture&#x27;, &#x27;OSBranch&#x27;, &#x27;OSEdition&#x27;,\n",
       "       &#x27;OSSkuFriendlyName&#x27;, &#x27;OSInstallType&#x27;, &#x27;AutoUpdateOptionsName&#x27;,\n",
       "       &#x27;OSGenuineState&#x27;, &#x27;LicenseActivationChannel&#x27;, &#x27;FlightRing&#x27;],\n",
       "      dtype=&#x27;object&#x27;))])</pre><b>In a Jupyter environment, please rerun this cell to show the HTML representation or trust the notebook. <br />On GitHub, the HTML representation is unable to render, please try loading this page with nbviewer.org.</b></div><div class=\"sk-container\" hidden><div class=\"sk-item sk-dashed-wrapped\"><div class=\"sk-label-container\"><div class=\"sk-label sk-toggleable\"><input class=\"sk-toggleable__control sk-hidden--visually\" id=\"sk-estimator-id-1\" type=\"checkbox\" ><label for=\"sk-estimator-id-1\" class=\"sk-toggleable__label sk-toggleable__label-arrow\">ColumnTransformer</label><div class=\"sk-toggleable__content\"><pre>ColumnTransformer(transformers=[(&#x27;num&#x27;,\n",
       "                                 Pipeline(steps=[(&#x27;imputer&#x27;, SimpleImputer()),\n",
       "                                                 (&#x27;scaler&#x27;, StandardScaler())]),\n",
       "                                 Index([&#x27;EngineVersion&#x27;, &#x27;AppVersion&#x27;, &#x27;SignatureVersion&#x27;,\n",
       "       &#x27;RealTimeProtectionState&#x27;, &#x27;IsPassiveModeEnabled&#x27;, &#x27;AntivirusConfigID&#x27;,\n",
       "       &#x27;NumAntivirusProductsInstalled&#x27;, &#x27;NumAntivirusProductsEnabled&#x27;,\n",
       "       &#x27;HasTpm&#x27;, &#x27;CountryID&#x27;, &#x27;GeoRegionID&#x27;, &#x27;LocaleEnglishNa...\n",
       "                                                  OneHotEncoder(handle_unknown=&#x27;ignore&#x27;))]),\n",
       "                                 Index([&#x27;PlatformType&#x27;, &#x27;Processor&#x27;, &#x27;OsPlatformSubRelease&#x27;, &#x27;SKUEditionName&#x27;,\n",
       "       &#x27;MDC2FormFactor&#x27;, &#x27;DeviceFamily&#x27;, &#x27;PrimaryDiskType&#x27;, &#x27;ChassisType&#x27;,\n",
       "       &#x27;PowerPlatformRole&#x27;, &#x27;OSArchitecture&#x27;, &#x27;OSBranch&#x27;, &#x27;OSEdition&#x27;,\n",
       "       &#x27;OSSkuFriendlyName&#x27;, &#x27;OSInstallType&#x27;, &#x27;AutoUpdateOptionsName&#x27;,\n",
       "       &#x27;OSGenuineState&#x27;, &#x27;LicenseActivationChannel&#x27;, &#x27;FlightRing&#x27;],\n",
       "      dtype=&#x27;object&#x27;))])</pre></div></div></div><div class=\"sk-parallel\"><div class=\"sk-parallel-item\"><div class=\"sk-item\"><div class=\"sk-label-container\"><div class=\"sk-label sk-toggleable\"><input class=\"sk-toggleable__control sk-hidden--visually\" id=\"sk-estimator-id-2\" type=\"checkbox\" ><label for=\"sk-estimator-id-2\" class=\"sk-toggleable__label sk-toggleable__label-arrow\">num</label><div class=\"sk-toggleable__content\"><pre>Index([&#x27;EngineVersion&#x27;, &#x27;AppVersion&#x27;, &#x27;SignatureVersion&#x27;,\n",
       "       &#x27;RealTimeProtectionState&#x27;, &#x27;IsPassiveModeEnabled&#x27;, &#x27;AntivirusConfigID&#x27;,\n",
       "       &#x27;NumAntivirusProductsInstalled&#x27;, &#x27;NumAntivirusProductsEnabled&#x27;,\n",
       "       &#x27;HasTpm&#x27;, &#x27;CountryID&#x27;, &#x27;GeoRegionID&#x27;, &#x27;LocaleEnglishNameID&#x27;,\n",
       "       &#x27;OSVersion&#x27;, &#x27;OSBuildNumber&#x27;, &#x27;OSProductSuite&#x27;, &#x27;IsSystemProtected&#x27;,\n",
       "       &#x27;SMode&#x27;, &#x27;IEVersionID&#x27;, &#x27;FirewallEnabled&#x27;, &#x27;EnableLUA&#x27;, &#x27;OEMNameID&#x27;,\n",
       "       &#x27;ProcessorCoreCount&#x27;, &#x27;ProcessorManufacturerID&#x27;, &#x27;ProcessorModelID&#x27;,\n",
       "       &#x27;PrimaryDiskCapacityMB&#x27;, &#x27;HasOpticalDiskDrive&#x27;, &#x27;TotalPhysicalRAMMB&#x27;,\n",
       "       &#x27;PrimaryDisplayDiagonalInches&#x27;, &#x27;PrimaryDisplayResolutionHorizontal&#x27;,\n",
       "       &#x27;PrimaryDisplayResolutionVertical&#x27;, &#x27;InternalBatteryNumberOfCharges&#x27;,\n",
       "       &#x27;NumericOSVersion&#x27;, &#x27;OSBuildNumberOnly&#x27;, &#x27;OSBuildRevisionOnly&#x27;,\n",
       "       &#x27;OSInstallLanguageID&#x27;, &#x27;OSUILocaleID&#x27;, &#x27;IsPortableOS&#x27;,\n",
       "       &#x27;FirmwareManufacturerID&#x27;, &#x27;FirmwareVersionID&#x27;, &#x27;IsSecureBootEnabled&#x27;,\n",
       "       &#x27;IsVirtualDevice&#x27;, &#x27;IsTouchEnabled&#x27;, &#x27;IsPenCapable&#x27;,\n",
       "       &#x27;IsAlwaysOnAlwaysConnectedCapable&#x27;, &#x27;IsGamer&#x27;, &#x27;RegionIdentifier&#x27;,\n",
       "       &#x27;DaysSinceAS&#x27;, &#x27;DaysSinceOS&#x27;],\n",
       "      dtype=&#x27;object&#x27;)</pre></div></div></div><div class=\"sk-serial\"><div class=\"sk-item\"><div class=\"sk-serial\"><div class=\"sk-item\"><div class=\"sk-estimator sk-toggleable\"><input class=\"sk-toggleable__control sk-hidden--visually\" id=\"sk-estimator-id-3\" type=\"checkbox\" ><label for=\"sk-estimator-id-3\" class=\"sk-toggleable__label sk-toggleable__label-arrow\">SimpleImputer</label><div class=\"sk-toggleable__content\"><pre>SimpleImputer()</pre></div></div></div><div class=\"sk-item\"><div class=\"sk-estimator sk-toggleable\"><input class=\"sk-toggleable__control sk-hidden--visually\" id=\"sk-estimator-id-4\" type=\"checkbox\" ><label for=\"sk-estimator-id-4\" class=\"sk-toggleable__label sk-toggleable__label-arrow\">StandardScaler</label><div class=\"sk-toggleable__content\"><pre>StandardScaler()</pre></div></div></div></div></div></div></div></div><div class=\"sk-parallel-item\"><div class=\"sk-item\"><div class=\"sk-label-container\"><div class=\"sk-label sk-toggleable\"><input class=\"sk-toggleable__control sk-hidden--visually\" id=\"sk-estimator-id-5\" type=\"checkbox\" ><label for=\"sk-estimator-id-5\" class=\"sk-toggleable__label sk-toggleable__label-arrow\">cat</label><div class=\"sk-toggleable__content\"><pre>Index([&#x27;PlatformType&#x27;, &#x27;Processor&#x27;, &#x27;OsPlatformSubRelease&#x27;, &#x27;SKUEditionName&#x27;,\n",
       "       &#x27;MDC2FormFactor&#x27;, &#x27;DeviceFamily&#x27;, &#x27;PrimaryDiskType&#x27;, &#x27;ChassisType&#x27;,\n",
       "       &#x27;PowerPlatformRole&#x27;, &#x27;OSArchitecture&#x27;, &#x27;OSBranch&#x27;, &#x27;OSEdition&#x27;,\n",
       "       &#x27;OSSkuFriendlyName&#x27;, &#x27;OSInstallType&#x27;, &#x27;AutoUpdateOptionsName&#x27;,\n",
       "       &#x27;OSGenuineState&#x27;, &#x27;LicenseActivationChannel&#x27;, &#x27;FlightRing&#x27;],\n",
       "      dtype=&#x27;object&#x27;)</pre></div></div></div><div class=\"sk-serial\"><div class=\"sk-item\"><div class=\"sk-serial\"><div class=\"sk-item\"><div class=\"sk-estimator sk-toggleable\"><input class=\"sk-toggleable__control sk-hidden--visually\" id=\"sk-estimator-id-6\" type=\"checkbox\" ><label for=\"sk-estimator-id-6\" class=\"sk-toggleable__label sk-toggleable__label-arrow\">SimpleImputer</label><div class=\"sk-toggleable__content\"><pre>SimpleImputer(strategy=&#x27;most_frequent&#x27;)</pre></div></div></div><div class=\"sk-item\"><div class=\"sk-estimator sk-toggleable\"><input class=\"sk-toggleable__control sk-hidden--visually\" id=\"sk-estimator-id-7\" type=\"checkbox\" ><label for=\"sk-estimator-id-7\" class=\"sk-toggleable__label sk-toggleable__label-arrow\">OneHotEncoder</label><div class=\"sk-toggleable__content\"><pre>OneHotEncoder(handle_unknown=&#x27;ignore&#x27;)</pre></div></div></div></div></div></div></div></div></div></div></div></div>"
      ],
      "text/plain": [
       "ColumnTransformer(transformers=[('num',\n",
       "                                 Pipeline(steps=[('imputer', SimpleImputer()),\n",
       "                                                 ('scaler', StandardScaler())]),\n",
       "                                 Index(['EngineVersion', 'AppVersion', 'SignatureVersion',\n",
       "       'RealTimeProtectionState', 'IsPassiveModeEnabled', 'AntivirusConfigID',\n",
       "       'NumAntivirusProductsInstalled', 'NumAntivirusProductsEnabled',\n",
       "       'HasTpm', 'CountryID', 'GeoRegionID', 'LocaleEnglishNa...\n",
       "                                                  OneHotEncoder(handle_unknown='ignore'))]),\n",
       "                                 Index(['PlatformType', 'Processor', 'OsPlatformSubRelease', 'SKUEditionName',\n",
       "       'MDC2FormFactor', 'DeviceFamily', 'PrimaryDiskType', 'ChassisType',\n",
       "       'PowerPlatformRole', 'OSArchitecture', 'OSBranch', 'OSEdition',\n",
       "       'OSSkuFriendlyName', 'OSInstallType', 'AutoUpdateOptionsName',\n",
       "       'OSGenuineState', 'LicenseActivationChannel', 'FlightRing'],\n",
       "      dtype='object'))])"
      ]
     },
     "execution_count": 21,
     "metadata": {},
     "output_type": "execute_result"
    }
   ],
   "source": [
    "num_cols = X_train.select_dtypes(include=[\"float64\", \"int64\"]).columns\n",
    "cat_cols = X_train.select_dtypes(include=[\"object\"]).columns\n",
    "\n",
    "num_pipe = Pipeline([\n",
    "    (\"imputer\", SimpleImputer(strategy=\"mean\")),\n",
    "    (\"scaler\", StandardScaler())\n",
    "])\n",
    "\n",
    "cat_pipe = Pipeline([\n",
    "    (\"imputer\", SimpleImputer(strategy=\"most_frequent\")),\n",
    "    (\"onehot\", OneHotEncoder(handle_unknown=\"ignore\"))\n",
    "])\n",
    "\n",
    "preprocessor = ColumnTransformer([\n",
    "    (\"num\", num_pipe, num_cols),\n",
    "    (\"cat\", cat_pipe, cat_cols)\n",
    "])\n",
    "\n",
    "preprocessor"
   ]
  },
  {
   "cell_type": "code",
   "execution_count": 22,
   "id": "4e987fc8",
   "metadata": {
    "execution": {
     "iopub.execute_input": "2025-03-17T15:56:33.282824Z",
     "iopub.status.busy": "2025-03-17T15:56:33.282416Z",
     "iopub.status.idle": "2025-03-17T15:56:34.736929Z",
     "shell.execute_reply": "2025-03-17T15:56:34.735875Z"
    },
    "papermill": {
     "duration": 1.479987,
     "end_time": "2025-03-17T15:56:34.739006",
     "exception": false,
     "start_time": "2025-03-17T15:56:33.259019",
     "status": "completed"
    },
    "tags": []
   },
   "outputs": [],
   "source": [
    "X_train = preprocessor.fit_transform(X_train)\n",
    "X_val = preprocessor.transform(X_val)\n",
    "X_test = preprocessor.transform(X_test)"
   ]
  },
  {
   "cell_type": "code",
   "execution_count": 23,
   "id": "0759916f",
   "metadata": {
    "execution": {
     "iopub.execute_input": "2025-03-17T15:56:34.784385Z",
     "iopub.status.busy": "2025-03-17T15:56:34.784006Z",
     "iopub.status.idle": "2025-03-17T15:56:34.790293Z",
     "shell.execute_reply": "2025-03-17T15:56:34.789163Z"
    },
    "papermill": {
     "duration": 0.031319,
     "end_time": "2025-03-17T15:56:34.792053",
     "exception": false,
     "start_time": "2025-03-17T15:56:34.760734",
     "status": "completed"
    },
    "tags": []
   },
   "outputs": [
    {
     "data": {
      "text/plain": [
       "((80000, 210), (20000, 210))"
      ]
     },
     "execution_count": 23,
     "metadata": {},
     "output_type": "execute_result"
    }
   ],
   "source": [
    "X_train.shape, X_val.shape"
   ]
  },
  {
   "cell_type": "markdown",
   "id": "11b84001",
   "metadata": {
    "papermill": {
     "duration": 0.021611,
     "end_time": "2025-03-17T15:56:34.835482",
     "exception": false,
     "start_time": "2025-03-17T15:56:34.813871",
     "status": "completed"
    },
    "tags": []
   },
   "source": [
    "# Model 1"
   ]
  },
  {
   "cell_type": "code",
   "execution_count": 24,
   "id": "558386b1",
   "metadata": {
    "execution": {
     "iopub.execute_input": "2025-03-17T15:56:34.880954Z",
     "iopub.status.busy": "2025-03-17T15:56:34.880588Z",
     "iopub.status.idle": "2025-03-17T15:56:34.884561Z",
     "shell.execute_reply": "2025-03-17T15:56:34.883700Z"
    },
    "papermill": {
     "duration": 0.02865,
     "end_time": "2025-03-17T15:56:34.886137",
     "exception": false,
     "start_time": "2025-03-17T15:56:34.857487",
     "status": "completed"
    },
    "tags": []
   },
   "outputs": [],
   "source": [
    "from sklearn.linear_model import SGDClassifier\n",
    "from sklearn.model_selection import GridSearchCV"
   ]
  },
  {
   "cell_type": "markdown",
   "id": "8752cc54",
   "metadata": {
    "papermill": {
     "duration": 0.02166,
     "end_time": "2025-03-17T15:56:34.930102",
     "exception": false,
     "start_time": "2025-03-17T15:56:34.908442",
     "status": "completed"
    },
    "tags": []
   },
   "source": [
    "## Base Line Model"
   ]
  },
  {
   "cell_type": "code",
   "execution_count": 25,
   "id": "c6effa80",
   "metadata": {
    "execution": {
     "iopub.execute_input": "2025-03-17T15:56:34.974967Z",
     "iopub.status.busy": "2025-03-17T15:56:34.974547Z",
     "iopub.status.idle": "2025-03-17T15:56:34.979009Z",
     "shell.execute_reply": "2025-03-17T15:56:34.978146Z"
    },
    "papermill": {
     "duration": 0.028694,
     "end_time": "2025-03-17T15:56:34.980565",
     "exception": false,
     "start_time": "2025-03-17T15:56:34.951871",
     "status": "completed"
    },
    "tags": []
   },
   "outputs": [],
   "source": [
    "sgd = SGDClassifier(\n",
    "    loss=\"log_loss\",\n",
    "    penalty=\"l2\",\n",
    "    alpha=.01,\n",
    "    learning_rate=\"constant\",\n",
    "    eta0=.01,\n",
    "    max_iter=2000,\n",
    "    n_iter_no_change=10,\n",
    "    tol=1e-4,\n",
    "    random_state=42\n",
    ")\n",
    "# sgd.fit(X_train, y_train)"
   ]
  },
  {
   "cell_type": "code",
   "execution_count": 26,
   "id": "bafb8aaa",
   "metadata": {
    "execution": {
     "iopub.execute_input": "2025-03-17T15:56:35.025741Z",
     "iopub.status.busy": "2025-03-17T15:56:35.025339Z",
     "iopub.status.idle": "2025-03-17T15:56:35.029318Z",
     "shell.execute_reply": "2025-03-17T15:56:35.028429Z"
    },
    "papermill": {
     "duration": 0.028379,
     "end_time": "2025-03-17T15:56:35.031025",
     "exception": false,
     "start_time": "2025-03-17T15:56:35.002646",
     "status": "completed"
    },
    "tags": []
   },
   "outputs": [],
   "source": [
    "# sgd.score(X_val, y_val)"
   ]
  },
  {
   "cell_type": "markdown",
   "id": "11e75b7e",
   "metadata": {
    "papermill": {
     "duration": 0.022607,
     "end_time": "2025-03-17T15:56:35.075554",
     "exception": false,
     "start_time": "2025-03-17T15:56:35.052947",
     "status": "completed"
    },
    "tags": []
   },
   "source": [
    "## Hyperparameter Tuning"
   ]
  },
  {
   "cell_type": "code",
   "execution_count": 27,
   "id": "f4c8edc2",
   "metadata": {
    "execution": {
     "iopub.execute_input": "2025-03-17T15:56:35.121558Z",
     "iopub.status.busy": "2025-03-17T15:56:35.121176Z",
     "iopub.status.idle": "2025-03-17T15:56:35.126582Z",
     "shell.execute_reply": "2025-03-17T15:56:35.125557Z"
    },
    "papermill": {
     "duration": 0.030474,
     "end_time": "2025-03-17T15:56:35.128265",
     "exception": false,
     "start_time": "2025-03-17T15:56:35.097791",
     "status": "completed"
    },
    "tags": []
   },
   "outputs": [],
   "source": [
    "params = {\n",
    "    \"loss\" : [\"log_loss\"],\n",
    "    \"penalty\" : [\"l1\", \"l2\", \"elasticnet\"],\n",
    "    \"learning_rate\" : [\"constant\", \"adaptive\"],\n",
    "    \"alpha\" : [.1, .01, .001, .0001],\n",
    "    \"eta0\" : [.1, .01, .001],\n",
    "    \"max_iter\" : [1000, 2000],\n",
    "    \"l1_ratio\" : [.1, .25, .5, .75, 1]\n",
    "}\n",
    "\n",
    "sgd = SGDClassifier(random_state=42, n_iter_no_change=10, early_stopping=True, tol=1e-4)"
   ]
  },
  {
   "cell_type": "code",
   "execution_count": 28,
   "id": "91f4164f",
   "metadata": {
    "execution": {
     "iopub.execute_input": "2025-03-17T15:56:35.174084Z",
     "iopub.status.busy": "2025-03-17T15:56:35.173685Z",
     "iopub.status.idle": "2025-03-17T15:56:35.178335Z",
     "shell.execute_reply": "2025-03-17T15:56:35.177199Z"
    },
    "papermill": {
     "duration": 0.029952,
     "end_time": "2025-03-17T15:56:35.180151",
     "exception": false,
     "start_time": "2025-03-17T15:56:35.150199",
     "status": "completed"
    },
    "tags": []
   },
   "outputs": [],
   "source": [
    "grid = GridSearchCV(\n",
    "    estimator=sgd,\n",
    "    param_grid=params,\n",
    "    cv=3,\n",
    "    scoring=\"accuracy\"\n",
    ")"
   ]
  },
  {
   "cell_type": "code",
   "execution_count": 29,
   "id": "e625b7cf",
   "metadata": {
    "execution": {
     "iopub.execute_input": "2025-03-17T15:56:35.226389Z",
     "iopub.status.busy": "2025-03-17T15:56:35.226061Z",
     "iopub.status.idle": "2025-03-17T15:56:35.230179Z",
     "shell.execute_reply": "2025-03-17T15:56:35.229091Z"
    },
    "papermill": {
     "duration": 0.029593,
     "end_time": "2025-03-17T15:56:35.231887",
     "exception": false,
     "start_time": "2025-03-17T15:56:35.202294",
     "status": "completed"
    },
    "tags": []
   },
   "outputs": [],
   "source": [
    "# grid.fit(X_train, y_train)"
   ]
  },
  {
   "cell_type": "code",
   "execution_count": 30,
   "id": "558c9903",
   "metadata": {
    "execution": {
     "iopub.execute_input": "2025-03-17T15:56:35.278318Z",
     "iopub.status.busy": "2025-03-17T15:56:35.277982Z",
     "iopub.status.idle": "2025-03-17T15:56:35.284374Z",
     "shell.execute_reply": "2025-03-17T15:56:35.283392Z"
    },
    "papermill": {
     "duration": 0.032137,
     "end_time": "2025-03-17T15:56:35.286260",
     "exception": false,
     "start_time": "2025-03-17T15:56:35.254123",
     "status": "completed"
    },
    "tags": []
   },
   "outputs": [
    {
     "data": {
      "text/plain": [
       "{'alpha': 0.0001,\n",
       " 'eta0': 0.01,\n",
       " 'l1_ratio': 0.5,\n",
       " 'learning_rate': 'adaptive',\n",
       " 'loss': 'log_loss',\n",
       " 'max_iter': 1000,\n",
       " 'penalty': 'elasticnet'}"
      ]
     },
     "execution_count": 30,
     "metadata": {},
     "output_type": "execute_result"
    }
   ],
   "source": [
    "{'alpha': 0.0001,\n",
    " 'eta0': 0.01,\n",
    " 'l1_ratio': 0.5,\n",
    " 'learning_rate': 'adaptive',\n",
    " 'loss': 'log_loss',\n",
    " 'max_iter': 1000,\n",
    " 'penalty': 'elasticnet'}\n",
    "\n",
    "# grid.best_params_"
   ]
  },
  {
   "cell_type": "code",
   "execution_count": 31,
   "id": "3db00566",
   "metadata": {
    "execution": {
     "iopub.execute_input": "2025-03-17T15:56:35.332612Z",
     "iopub.status.busy": "2025-03-17T15:56:35.332236Z",
     "iopub.status.idle": "2025-03-17T15:56:35.336727Z",
     "shell.execute_reply": "2025-03-17T15:56:35.335692Z"
    },
    "papermill": {
     "duration": 0.029407,
     "end_time": "2025-03-17T15:56:35.338519",
     "exception": false,
     "start_time": "2025-03-17T15:56:35.309112",
     "status": "completed"
    },
    "tags": []
   },
   "outputs": [],
   "source": [
    "sgd = SGDClassifier(\n",
    "    random_state=42,\n",
    "    n_iter_no_change=10,\n",
    "    early_stopping=True,\n",
    "    tol=1e-4,\n",
    "    alpha=0.0001,\n",
    "    eta0=0.01,\n",
    "    l1_ratio=0.5,\n",
    "    learning_rate=\"adaptive\",\n",
    "    loss=\"log_loss\",\n",
    "    max_iter=1000,\n",
    "    penalty=\"elasticnet\"\n",
    ")\n",
    "# sgd.fit(X_train, y_train)"
   ]
  },
  {
   "cell_type": "code",
   "execution_count": 32,
   "id": "4c8665b5",
   "metadata": {
    "execution": {
     "iopub.execute_input": "2025-03-17T15:56:35.383977Z",
     "iopub.status.busy": "2025-03-17T15:56:35.383638Z",
     "iopub.status.idle": "2025-03-17T15:56:35.387773Z",
     "shell.execute_reply": "2025-03-17T15:56:35.386614Z"
    },
    "papermill": {
     "duration": 0.02921,
     "end_time": "2025-03-17T15:56:35.389786",
     "exception": false,
     "start_time": "2025-03-17T15:56:35.360576",
     "status": "completed"
    },
    "tags": []
   },
   "outputs": [],
   "source": [
    "# sgd.score(X_train, y_train), sgd.score(X_val, y_val)"
   ]
  },
  {
   "cell_type": "markdown",
   "id": "1563c0aa",
   "metadata": {
    "papermill": {
     "duration": 0.028508,
     "end_time": "2025-03-17T15:56:35.499877",
     "exception": false,
     "start_time": "2025-03-17T15:56:35.471369",
     "status": "completed"
    },
    "tags": []
   },
   "source": [
    "# Model 2"
   ]
  },
  {
   "cell_type": "code",
   "execution_count": 33,
   "id": "faf9bf31",
   "metadata": {
    "execution": {
     "iopub.execute_input": "2025-03-17T15:56:35.546023Z",
     "iopub.status.busy": "2025-03-17T15:56:35.545663Z",
     "iopub.status.idle": "2025-03-17T15:56:35.721553Z",
     "shell.execute_reply": "2025-03-17T15:56:35.720545Z"
    },
    "papermill": {
     "duration": 0.20127,
     "end_time": "2025-03-17T15:56:35.723481",
     "exception": false,
     "start_time": "2025-03-17T15:56:35.522211",
     "status": "completed"
    },
    "tags": []
   },
   "outputs": [],
   "source": [
    "from sklearn.ensemble import RandomForestClassifier"
   ]
  },
  {
   "cell_type": "code",
   "execution_count": 34,
   "id": "d4cc8386",
   "metadata": {
    "execution": {
     "iopub.execute_input": "2025-03-17T15:56:35.770176Z",
     "iopub.status.busy": "2025-03-17T15:56:35.769806Z",
     "iopub.status.idle": "2025-03-17T15:56:35.774271Z",
     "shell.execute_reply": "2025-03-17T15:56:35.773201Z"
    },
    "papermill": {
     "duration": 0.029937,
     "end_time": "2025-03-17T15:56:35.776031",
     "exception": false,
     "start_time": "2025-03-17T15:56:35.746094",
     "status": "completed"
    },
    "tags": []
   },
   "outputs": [],
   "source": [
    "rfc = RandomForestClassifier(n_estimators=100, max_depth=10, class_weight=\"balanced\", random_state=42)\n",
    "# rfc.fit(X_train, y_train)"
   ]
  },
  {
   "cell_type": "code",
   "execution_count": 35,
   "id": "d01155bf",
   "metadata": {
    "execution": {
     "iopub.execute_input": "2025-03-17T15:56:35.821273Z",
     "iopub.status.busy": "2025-03-17T15:56:35.820941Z",
     "iopub.status.idle": "2025-03-17T15:56:35.824742Z",
     "shell.execute_reply": "2025-03-17T15:56:35.823738Z"
    },
    "papermill": {
     "duration": 0.028436,
     "end_time": "2025-03-17T15:56:35.826368",
     "exception": false,
     "start_time": "2025-03-17T15:56:35.797932",
     "status": "completed"
    },
    "tags": []
   },
   "outputs": [],
   "source": [
    "# rfc.score(X_val, y_val)"
   ]
  },
  {
   "cell_type": "markdown",
   "id": "3ab10738",
   "metadata": {
    "papermill": {
     "duration": 0.022052,
     "end_time": "2025-03-17T15:56:35.870924",
     "exception": false,
     "start_time": "2025-03-17T15:56:35.848872",
     "status": "completed"
    },
    "tags": []
   },
   "source": [
    "## Hyperparameter Tuning"
   ]
  },
  {
   "cell_type": "code",
   "execution_count": 36,
   "id": "640f0830",
   "metadata": {
    "execution": {
     "iopub.execute_input": "2025-03-17T15:56:35.917023Z",
     "iopub.status.busy": "2025-03-17T15:56:35.916649Z",
     "iopub.status.idle": "2025-03-17T15:56:35.921433Z",
     "shell.execute_reply": "2025-03-17T15:56:35.920411Z"
    },
    "papermill": {
     "duration": 0.029818,
     "end_time": "2025-03-17T15:56:35.923290",
     "exception": false,
     "start_time": "2025-03-17T15:56:35.893472",
     "status": "completed"
    },
    "tags": []
   },
   "outputs": [],
   "source": [
    "params = {\n",
    "    \"class_weight\" : [\"balanced\"],\n",
    "    \"n_estimators\" : [500, 600],\n",
    "    \"max_depth\" : [50, 60],\n",
    "    \"min_samples_split\" : [5, 10]\n",
    "}\n",
    "rfc = RandomForestClassifier(random_state=42)"
   ]
  },
  {
   "cell_type": "code",
   "execution_count": 37,
   "id": "3a345834",
   "metadata": {
    "execution": {
     "iopub.execute_input": "2025-03-17T15:56:35.968994Z",
     "iopub.status.busy": "2025-03-17T15:56:35.968636Z",
     "iopub.status.idle": "2025-03-17T15:56:35.972809Z",
     "shell.execute_reply": "2025-03-17T15:56:35.971815Z"
    },
    "papermill": {
     "duration": 0.029215,
     "end_time": "2025-03-17T15:56:35.974606",
     "exception": false,
     "start_time": "2025-03-17T15:56:35.945391",
     "status": "completed"
    },
    "tags": []
   },
   "outputs": [],
   "source": [
    "grid = GridSearchCV(\n",
    "    estimator=rfc,\n",
    "    param_grid=params,\n",
    "    cv=3,\n",
    "    scoring=\"accuracy\"\n",
    ")"
   ]
  },
  {
   "cell_type": "code",
   "execution_count": 38,
   "id": "93536781",
   "metadata": {
    "execution": {
     "iopub.execute_input": "2025-03-17T15:56:36.020674Z",
     "iopub.status.busy": "2025-03-17T15:56:36.020262Z",
     "iopub.status.idle": "2025-03-17T15:56:36.024157Z",
     "shell.execute_reply": "2025-03-17T15:56:36.023128Z"
    },
    "papermill": {
     "duration": 0.028983,
     "end_time": "2025-03-17T15:56:36.025844",
     "exception": false,
     "start_time": "2025-03-17T15:56:35.996861",
     "status": "completed"
    },
    "tags": []
   },
   "outputs": [],
   "source": [
    "# grid.fit(X_train, y_train)"
   ]
  },
  {
   "cell_type": "code",
   "execution_count": 39,
   "id": "60634ac6",
   "metadata": {
    "execution": {
     "iopub.execute_input": "2025-03-17T15:56:36.072708Z",
     "iopub.status.busy": "2025-03-17T15:56:36.072325Z",
     "iopub.status.idle": "2025-03-17T15:56:36.078293Z",
     "shell.execute_reply": "2025-03-17T15:56:36.077267Z"
    },
    "papermill": {
     "duration": 0.032034,
     "end_time": "2025-03-17T15:56:36.079982",
     "exception": false,
     "start_time": "2025-03-17T15:56:36.047948",
     "status": "completed"
    },
    "tags": []
   },
   "outputs": [
    {
     "data": {
      "text/plain": [
       "{'class_weight': 'balanced',\n",
       " 'max_depth': 50,\n",
       " 'min_samples_split': 10,\n",
       " 'n_estimators': 600}"
      ]
     },
     "execution_count": 39,
     "metadata": {},
     "output_type": "execute_result"
    }
   ],
   "source": [
    "{'class_weight': 'balanced',\n",
    " 'max_depth': 50,\n",
    " 'min_samples_split': 10,\n",
    " 'n_estimators': 600}\n",
    "\n",
    "# grid.best_params_"
   ]
  },
  {
   "cell_type": "code",
   "execution_count": 40,
   "id": "9069dc0f",
   "metadata": {
    "execution": {
     "iopub.execute_input": "2025-03-17T15:56:36.126192Z",
     "iopub.status.busy": "2025-03-17T15:56:36.125788Z",
     "iopub.status.idle": "2025-03-17T15:56:36.130543Z",
     "shell.execute_reply": "2025-03-17T15:56:36.129389Z"
    },
    "papermill": {
     "duration": 0.030426,
     "end_time": "2025-03-17T15:56:36.132625",
     "exception": false,
     "start_time": "2025-03-17T15:56:36.102199",
     "status": "completed"
    },
    "tags": []
   },
   "outputs": [],
   "source": [
    "rfc = RandomForestClassifier(\n",
    "    class_weight='balanced',\n",
    "    max_depth=50,\n",
    "    min_samples_split=10,\n",
    "    n_estimators=600,\n",
    "    random_state=42\n",
    ")\n",
    "# rfc.fit(X_train, y_train)"
   ]
  },
  {
   "cell_type": "code",
   "execution_count": 41,
   "id": "d34116e3",
   "metadata": {
    "execution": {
     "iopub.execute_input": "2025-03-17T15:56:36.179593Z",
     "iopub.status.busy": "2025-03-17T15:56:36.179174Z",
     "iopub.status.idle": "2025-03-17T15:56:36.183005Z",
     "shell.execute_reply": "2025-03-17T15:56:36.181953Z"
    },
    "papermill": {
     "duration": 0.029361,
     "end_time": "2025-03-17T15:56:36.184712",
     "exception": false,
     "start_time": "2025-03-17T15:56:36.155351",
     "status": "completed"
    },
    "tags": []
   },
   "outputs": [],
   "source": [
    "# rfc.score(X_train, y_train), rfc.score(X_val, y_val)"
   ]
  },
  {
   "cell_type": "markdown",
   "id": "233de8e9",
   "metadata": {
    "papermill": {
     "duration": 0.022403,
     "end_time": "2025-03-17T15:56:36.229988",
     "exception": false,
     "start_time": "2025-03-17T15:56:36.207585",
     "status": "completed"
    },
    "tags": []
   },
   "source": [
    "# Model 3"
   ]
  },
  {
   "cell_type": "code",
   "execution_count": 42,
   "id": "6018f533",
   "metadata": {
    "execution": {
     "iopub.execute_input": "2025-03-17T15:56:36.277151Z",
     "iopub.status.busy": "2025-03-17T15:56:36.276793Z",
     "iopub.status.idle": "2025-03-17T15:56:39.225580Z",
     "shell.execute_reply": "2025-03-17T15:56:39.224372Z"
    },
    "papermill": {
     "duration": 2.974863,
     "end_time": "2025-03-17T15:56:39.227680",
     "exception": false,
     "start_time": "2025-03-17T15:56:36.252817",
     "status": "completed"
    },
    "tags": []
   },
   "outputs": [],
   "source": [
    "from lightgbm import LGBMClassifier"
   ]
  },
  {
   "cell_type": "code",
   "execution_count": 43,
   "id": "62baeffd",
   "metadata": {
    "execution": {
     "iopub.execute_input": "2025-03-17T15:56:39.274362Z",
     "iopub.status.busy": "2025-03-17T15:56:39.273703Z",
     "iopub.status.idle": "2025-03-17T15:56:39.278642Z",
     "shell.execute_reply": "2025-03-17T15:56:39.277738Z"
    },
    "papermill": {
     "duration": 0.030103,
     "end_time": "2025-03-17T15:56:39.280258",
     "exception": false,
     "start_time": "2025-03-17T15:56:39.250155",
     "status": "completed"
    },
    "tags": []
   },
   "outputs": [],
   "source": [
    "lgb = LGBMClassifier(\n",
    "    objective=\"binary\",\n",
    "    metric=\"accuracy\",\n",
    "    n_estimators=100,\n",
    "    max_depth=10,\n",
    "    learning_rate=.1,\n",
    "    min_child_samples=10,\n",
    "    num_leaves=20,\n",
    "    random_state=42,\n",
    "    verbose=-1\n",
    ")"
   ]
  },
  {
   "cell_type": "code",
   "execution_count": 44,
   "id": "bd55147b",
   "metadata": {
    "execution": {
     "iopub.execute_input": "2025-03-17T15:56:39.327380Z",
     "iopub.status.busy": "2025-03-17T15:56:39.327038Z",
     "iopub.status.idle": "2025-03-17T15:56:40.958818Z",
     "shell.execute_reply": "2025-03-17T15:56:40.957478Z"
    },
    "papermill": {
     "duration": 1.65839,
     "end_time": "2025-03-17T15:56:40.961327",
     "exception": false,
     "start_time": "2025-03-17T15:56:39.302937",
     "status": "completed"
    },
    "tags": []
   },
   "outputs": [
    {
     "data": {
      "text/html": [
       "<style>#sk-container-id-2 {color: black;background-color: white;}#sk-container-id-2 pre{padding: 0;}#sk-container-id-2 div.sk-toggleable {background-color: white;}#sk-container-id-2 label.sk-toggleable__label {cursor: pointer;display: block;width: 100%;margin-bottom: 0;padding: 0.3em;box-sizing: border-box;text-align: center;}#sk-container-id-2 label.sk-toggleable__label-arrow:before {content: \"▸\";float: left;margin-right: 0.25em;color: #696969;}#sk-container-id-2 label.sk-toggleable__label-arrow:hover:before {color: black;}#sk-container-id-2 div.sk-estimator:hover label.sk-toggleable__label-arrow:before {color: black;}#sk-container-id-2 div.sk-toggleable__content {max-height: 0;max-width: 0;overflow: hidden;text-align: left;background-color: #f0f8ff;}#sk-container-id-2 div.sk-toggleable__content pre {margin: 0.2em;color: black;border-radius: 0.25em;background-color: #f0f8ff;}#sk-container-id-2 input.sk-toggleable__control:checked~div.sk-toggleable__content {max-height: 200px;max-width: 100%;overflow: auto;}#sk-container-id-2 input.sk-toggleable__control:checked~label.sk-toggleable__label-arrow:before {content: \"▾\";}#sk-container-id-2 div.sk-estimator input.sk-toggleable__control:checked~label.sk-toggleable__label {background-color: #d4ebff;}#sk-container-id-2 div.sk-label input.sk-toggleable__control:checked~label.sk-toggleable__label {background-color: #d4ebff;}#sk-container-id-2 input.sk-hidden--visually {border: 0;clip: rect(1px 1px 1px 1px);clip: rect(1px, 1px, 1px, 1px);height: 1px;margin: -1px;overflow: hidden;padding: 0;position: absolute;width: 1px;}#sk-container-id-2 div.sk-estimator {font-family: monospace;background-color: #f0f8ff;border: 1px dotted black;border-radius: 0.25em;box-sizing: border-box;margin-bottom: 0.5em;}#sk-container-id-2 div.sk-estimator:hover {background-color: #d4ebff;}#sk-container-id-2 div.sk-parallel-item::after {content: \"\";width: 100%;border-bottom: 1px solid gray;flex-grow: 1;}#sk-container-id-2 div.sk-label:hover label.sk-toggleable__label {background-color: #d4ebff;}#sk-container-id-2 div.sk-serial::before {content: \"\";position: absolute;border-left: 1px solid gray;box-sizing: border-box;top: 0;bottom: 0;left: 50%;z-index: 0;}#sk-container-id-2 div.sk-serial {display: flex;flex-direction: column;align-items: center;background-color: white;padding-right: 0.2em;padding-left: 0.2em;position: relative;}#sk-container-id-2 div.sk-item {position: relative;z-index: 1;}#sk-container-id-2 div.sk-parallel {display: flex;align-items: stretch;justify-content: center;background-color: white;position: relative;}#sk-container-id-2 div.sk-item::before, #sk-container-id-2 div.sk-parallel-item::before {content: \"\";position: absolute;border-left: 1px solid gray;box-sizing: border-box;top: 0;bottom: 0;left: 50%;z-index: -1;}#sk-container-id-2 div.sk-parallel-item {display: flex;flex-direction: column;z-index: 1;position: relative;background-color: white;}#sk-container-id-2 div.sk-parallel-item:first-child::after {align-self: flex-end;width: 50%;}#sk-container-id-2 div.sk-parallel-item:last-child::after {align-self: flex-start;width: 50%;}#sk-container-id-2 div.sk-parallel-item:only-child::after {width: 0;}#sk-container-id-2 div.sk-dashed-wrapped {border: 1px dashed gray;margin: 0 0.4em 0.5em 0.4em;box-sizing: border-box;padding-bottom: 0.4em;background-color: white;}#sk-container-id-2 div.sk-label label {font-family: monospace;font-weight: bold;display: inline-block;line-height: 1.2em;}#sk-container-id-2 div.sk-label-container {text-align: center;}#sk-container-id-2 div.sk-container {/* jupyter's `normalize.less` sets `[hidden] { display: none; }` but bootstrap.min.css set `[hidden] { display: none !important; }` so we also need the `!important` here to be able to override the default hidden behavior on the sphinx rendered scikit-learn.org. See: https://github.com/scikit-learn/scikit-learn/issues/21755 */display: inline-block !important;position: relative;}#sk-container-id-2 div.sk-text-repr-fallback {display: none;}</style><div id=\"sk-container-id-2\" class=\"sk-top-container\"><div class=\"sk-text-repr-fallback\"><pre>LGBMClassifier(max_depth=10, metric=&#x27;accuracy&#x27;, min_child_samples=10,\n",
       "               num_leaves=20, objective=&#x27;binary&#x27;, random_state=42, verbose=-1)</pre><b>In a Jupyter environment, please rerun this cell to show the HTML representation or trust the notebook. <br />On GitHub, the HTML representation is unable to render, please try loading this page with nbviewer.org.</b></div><div class=\"sk-container\" hidden><div class=\"sk-item\"><div class=\"sk-estimator sk-toggleable\"><input class=\"sk-toggleable__control sk-hidden--visually\" id=\"sk-estimator-id-8\" type=\"checkbox\" checked><label for=\"sk-estimator-id-8\" class=\"sk-toggleable__label sk-toggleable__label-arrow\">LGBMClassifier</label><div class=\"sk-toggleable__content\"><pre>LGBMClassifier(max_depth=10, metric=&#x27;accuracy&#x27;, min_child_samples=10,\n",
       "               num_leaves=20, objective=&#x27;binary&#x27;, random_state=42, verbose=-1)</pre></div></div></div></div></div>"
      ],
      "text/plain": [
       "LGBMClassifier(max_depth=10, metric='accuracy', min_child_samples=10,\n",
       "               num_leaves=20, objective='binary', random_state=42, verbose=-1)"
      ]
     },
     "execution_count": 44,
     "metadata": {},
     "output_type": "execute_result"
    }
   ],
   "source": [
    "lgb.fit(X_train, y_train)"
   ]
  },
  {
   "cell_type": "code",
   "execution_count": 45,
   "id": "50c0a314",
   "metadata": {
    "execution": {
     "iopub.execute_input": "2025-03-17T15:56:41.015744Z",
     "iopub.status.busy": "2025-03-17T15:56:41.015310Z",
     "iopub.status.idle": "2025-03-17T15:56:41.105390Z",
     "shell.execute_reply": "2025-03-17T15:56:41.104228Z"
    },
    "papermill": {
     "duration": 0.120076,
     "end_time": "2025-03-17T15:56:41.107398",
     "exception": false,
     "start_time": "2025-03-17T15:56:40.987322",
     "status": "completed"
    },
    "tags": []
   },
   "outputs": [
    {
     "data": {
      "text/plain": [
       "0.6289"
      ]
     },
     "execution_count": 45,
     "metadata": {},
     "output_type": "execute_result"
    }
   ],
   "source": [
    "lgb.score(X_val, y_val)"
   ]
  },
  {
   "cell_type": "markdown",
   "id": "12640d63",
   "metadata": {
    "papermill": {
     "duration": 0.022582,
     "end_time": "2025-03-17T15:56:41.154606",
     "exception": false,
     "start_time": "2025-03-17T15:56:41.132024",
     "status": "completed"
    },
    "tags": []
   },
   "source": [
    "## Hyperparameter Tuning"
   ]
  },
  {
   "cell_type": "code",
   "execution_count": 46,
   "id": "851dd993",
   "metadata": {
    "execution": {
     "iopub.execute_input": "2025-03-17T15:56:41.202879Z",
     "iopub.status.busy": "2025-03-17T15:56:41.202392Z",
     "iopub.status.idle": "2025-03-17T15:56:41.207597Z",
     "shell.execute_reply": "2025-03-17T15:56:41.206577Z"
    },
    "papermill": {
     "duration": 0.03151,
     "end_time": "2025-03-17T15:56:41.209313",
     "exception": false,
     "start_time": "2025-03-17T15:56:41.177803",
     "status": "completed"
    },
    "tags": []
   },
   "outputs": [],
   "source": [
    "params = {\n",
    "    \"n_estimators\" : [100, 200, 300],\n",
    "    \"max_depth\" : [1, 5, 10],\n",
    "    \"learning_rate\" : [0.01, 0.05, 0.1],\n",
    "    \"min_child_samples\" : [30, 40, 50],\n",
    "    \"num_leaves\" : [20, 30, 40]\n",
    "}\n",
    "lgb = LGBMClassifier(objective=\"binary\", metric=\"accuracy\", random_state=42, verbose=-1)"
   ]
  },
  {
   "cell_type": "code",
   "execution_count": 47,
   "id": "d99c788a",
   "metadata": {
    "execution": {
     "iopub.execute_input": "2025-03-17T15:56:41.257568Z",
     "iopub.status.busy": "2025-03-17T15:56:41.257109Z",
     "iopub.status.idle": "2025-03-17T15:56:41.262165Z",
     "shell.execute_reply": "2025-03-17T15:56:41.260954Z"
    },
    "papermill": {
     "duration": 0.031596,
     "end_time": "2025-03-17T15:56:41.264127",
     "exception": false,
     "start_time": "2025-03-17T15:56:41.232531",
     "status": "completed"
    },
    "tags": []
   },
   "outputs": [],
   "source": [
    "grid = GridSearchCV(\n",
    "    estimator=lgb,\n",
    "    param_grid=params,\n",
    "    scoring=\"accuracy\",\n",
    "    cv=3\n",
    ")"
   ]
  },
  {
   "cell_type": "code",
   "execution_count": 48,
   "id": "9824a7e8",
   "metadata": {
    "execution": {
     "iopub.execute_input": "2025-03-17T15:56:41.313318Z",
     "iopub.status.busy": "2025-03-17T15:56:41.312946Z",
     "iopub.status.idle": "2025-03-17T15:56:41.317055Z",
     "shell.execute_reply": "2025-03-17T15:56:41.315880Z"
    },
    "papermill": {
     "duration": 0.030682,
     "end_time": "2025-03-17T15:56:41.318870",
     "exception": false,
     "start_time": "2025-03-17T15:56:41.288188",
     "status": "completed"
    },
    "tags": []
   },
   "outputs": [],
   "source": [
    "# grid.fit(X_train, y_train)"
   ]
  },
  {
   "cell_type": "code",
   "execution_count": 49,
   "id": "4b254e37",
   "metadata": {
    "execution": {
     "iopub.execute_input": "2025-03-17T15:56:41.366863Z",
     "iopub.status.busy": "2025-03-17T15:56:41.366392Z",
     "iopub.status.idle": "2025-03-17T15:56:41.372891Z",
     "shell.execute_reply": "2025-03-17T15:56:41.371784Z"
    },
    "papermill": {
     "duration": 0.032298,
     "end_time": "2025-03-17T15:56:41.374639",
     "exception": false,
     "start_time": "2025-03-17T15:56:41.342341",
     "status": "completed"
    },
    "tags": []
   },
   "outputs": [
    {
     "data": {
      "text/plain": [
       "{'learning_rate': 0.05,\n",
       " 'max_depth': 10,\n",
       " 'min_child_samples': 40,\n",
       " 'n_estimators': 200,\n",
       " 'num_leaves': 30}"
      ]
     },
     "execution_count": 49,
     "metadata": {},
     "output_type": "execute_result"
    }
   ],
   "source": [
    "{'learning_rate': 0.05,\n",
    " 'max_depth': 10,\n",
    " 'min_child_samples': 40,\n",
    " 'n_estimators': 200,\n",
    " 'num_leaves': 30}\n",
    "\n",
    "# grid.best_params_"
   ]
  },
  {
   "cell_type": "code",
   "execution_count": 50,
   "id": "d6fd506e",
   "metadata": {
    "execution": {
     "iopub.execute_input": "2025-03-17T15:56:41.423350Z",
     "iopub.status.busy": "2025-03-17T15:56:41.422991Z",
     "iopub.status.idle": "2025-03-17T15:56:44.083158Z",
     "shell.execute_reply": "2025-03-17T15:56:44.081784Z"
    },
    "papermill": {
     "duration": 2.687185,
     "end_time": "2025-03-17T15:56:44.085208",
     "exception": false,
     "start_time": "2025-03-17T15:56:41.398023",
     "status": "completed"
    },
    "tags": []
   },
   "outputs": [
    {
     "data": {
      "text/html": [
       "<style>#sk-container-id-3 {color: black;background-color: white;}#sk-container-id-3 pre{padding: 0;}#sk-container-id-3 div.sk-toggleable {background-color: white;}#sk-container-id-3 label.sk-toggleable__label {cursor: pointer;display: block;width: 100%;margin-bottom: 0;padding: 0.3em;box-sizing: border-box;text-align: center;}#sk-container-id-3 label.sk-toggleable__label-arrow:before {content: \"▸\";float: left;margin-right: 0.25em;color: #696969;}#sk-container-id-3 label.sk-toggleable__label-arrow:hover:before {color: black;}#sk-container-id-3 div.sk-estimator:hover label.sk-toggleable__label-arrow:before {color: black;}#sk-container-id-3 div.sk-toggleable__content {max-height: 0;max-width: 0;overflow: hidden;text-align: left;background-color: #f0f8ff;}#sk-container-id-3 div.sk-toggleable__content pre {margin: 0.2em;color: black;border-radius: 0.25em;background-color: #f0f8ff;}#sk-container-id-3 input.sk-toggleable__control:checked~div.sk-toggleable__content {max-height: 200px;max-width: 100%;overflow: auto;}#sk-container-id-3 input.sk-toggleable__control:checked~label.sk-toggleable__label-arrow:before {content: \"▾\";}#sk-container-id-3 div.sk-estimator input.sk-toggleable__control:checked~label.sk-toggleable__label {background-color: #d4ebff;}#sk-container-id-3 div.sk-label input.sk-toggleable__control:checked~label.sk-toggleable__label {background-color: #d4ebff;}#sk-container-id-3 input.sk-hidden--visually {border: 0;clip: rect(1px 1px 1px 1px);clip: rect(1px, 1px, 1px, 1px);height: 1px;margin: -1px;overflow: hidden;padding: 0;position: absolute;width: 1px;}#sk-container-id-3 div.sk-estimator {font-family: monospace;background-color: #f0f8ff;border: 1px dotted black;border-radius: 0.25em;box-sizing: border-box;margin-bottom: 0.5em;}#sk-container-id-3 div.sk-estimator:hover {background-color: #d4ebff;}#sk-container-id-3 div.sk-parallel-item::after {content: \"\";width: 100%;border-bottom: 1px solid gray;flex-grow: 1;}#sk-container-id-3 div.sk-label:hover label.sk-toggleable__label {background-color: #d4ebff;}#sk-container-id-3 div.sk-serial::before {content: \"\";position: absolute;border-left: 1px solid gray;box-sizing: border-box;top: 0;bottom: 0;left: 50%;z-index: 0;}#sk-container-id-3 div.sk-serial {display: flex;flex-direction: column;align-items: center;background-color: white;padding-right: 0.2em;padding-left: 0.2em;position: relative;}#sk-container-id-3 div.sk-item {position: relative;z-index: 1;}#sk-container-id-3 div.sk-parallel {display: flex;align-items: stretch;justify-content: center;background-color: white;position: relative;}#sk-container-id-3 div.sk-item::before, #sk-container-id-3 div.sk-parallel-item::before {content: \"\";position: absolute;border-left: 1px solid gray;box-sizing: border-box;top: 0;bottom: 0;left: 50%;z-index: -1;}#sk-container-id-3 div.sk-parallel-item {display: flex;flex-direction: column;z-index: 1;position: relative;background-color: white;}#sk-container-id-3 div.sk-parallel-item:first-child::after {align-self: flex-end;width: 50%;}#sk-container-id-3 div.sk-parallel-item:last-child::after {align-self: flex-start;width: 50%;}#sk-container-id-3 div.sk-parallel-item:only-child::after {width: 0;}#sk-container-id-3 div.sk-dashed-wrapped {border: 1px dashed gray;margin: 0 0.4em 0.5em 0.4em;box-sizing: border-box;padding-bottom: 0.4em;background-color: white;}#sk-container-id-3 div.sk-label label {font-family: monospace;font-weight: bold;display: inline-block;line-height: 1.2em;}#sk-container-id-3 div.sk-label-container {text-align: center;}#sk-container-id-3 div.sk-container {/* jupyter's `normalize.less` sets `[hidden] { display: none; }` but bootstrap.min.css set `[hidden] { display: none !important; }` so we also need the `!important` here to be able to override the default hidden behavior on the sphinx rendered scikit-learn.org. See: https://github.com/scikit-learn/scikit-learn/issues/21755 */display: inline-block !important;position: relative;}#sk-container-id-3 div.sk-text-repr-fallback {display: none;}</style><div id=\"sk-container-id-3\" class=\"sk-top-container\"><div class=\"sk-text-repr-fallback\"><pre>LGBMClassifier(learning_rate=0.05, max_depth=10, metric=&#x27;accuracy&#x27;,\n",
       "               min_child_samples=40, n_estimators=200, num_leaves=30,\n",
       "               objective=&#x27;binary&#x27;, random_state=42, verbose=-1)</pre><b>In a Jupyter environment, please rerun this cell to show the HTML representation or trust the notebook. <br />On GitHub, the HTML representation is unable to render, please try loading this page with nbviewer.org.</b></div><div class=\"sk-container\" hidden><div class=\"sk-item\"><div class=\"sk-estimator sk-toggleable\"><input class=\"sk-toggleable__control sk-hidden--visually\" id=\"sk-estimator-id-9\" type=\"checkbox\" checked><label for=\"sk-estimator-id-9\" class=\"sk-toggleable__label sk-toggleable__label-arrow\">LGBMClassifier</label><div class=\"sk-toggleable__content\"><pre>LGBMClassifier(learning_rate=0.05, max_depth=10, metric=&#x27;accuracy&#x27;,\n",
       "               min_child_samples=40, n_estimators=200, num_leaves=30,\n",
       "               objective=&#x27;binary&#x27;, random_state=42, verbose=-1)</pre></div></div></div></div></div>"
      ],
      "text/plain": [
       "LGBMClassifier(learning_rate=0.05, max_depth=10, metric='accuracy',\n",
       "               min_child_samples=40, n_estimators=200, num_leaves=30,\n",
       "               objective='binary', random_state=42, verbose=-1)"
      ]
     },
     "execution_count": 50,
     "metadata": {},
     "output_type": "execute_result"
    }
   ],
   "source": [
    "lgb = LGBMClassifier(\n",
    "    objective=\"binary\",\n",
    "    metric=\"accuracy\",\n",
    "    n_estimators=200,\n",
    "    max_depth=10,\n",
    "    learning_rate=.05,\n",
    "    min_child_samples=40,\n",
    "    num_leaves=30,\n",
    "    random_state=42,\n",
    "    verbose=-1\n",
    ")\n",
    "lgb.fit(X_train, y_train)"
   ]
  },
  {
   "cell_type": "code",
   "execution_count": 51,
   "id": "0ebf8880",
   "metadata": {
    "execution": {
     "iopub.execute_input": "2025-03-17T15:56:44.135362Z",
     "iopub.status.busy": "2025-03-17T15:56:44.134974Z",
     "iopub.status.idle": "2025-03-17T15:56:45.037210Z",
     "shell.execute_reply": "2025-03-17T15:56:45.036102Z"
    },
    "papermill": {
     "duration": 0.928902,
     "end_time": "2025-03-17T15:56:45.039444",
     "exception": false,
     "start_time": "2025-03-17T15:56:44.110542",
     "status": "completed"
    },
    "tags": []
   },
   "outputs": [
    {
     "data": {
      "text/plain": [
       "(0.655675, 0.62935)"
      ]
     },
     "execution_count": 51,
     "metadata": {},
     "output_type": "execute_result"
    }
   ],
   "source": [
    "lgb.score(X_train, y_train), lgb.score(X_val, y_val)"
   ]
  },
  {
   "cell_type": "markdown",
   "id": "d5f4281b",
   "metadata": {
    "papermill": {
     "duration": 0.02305,
     "end_time": "2025-03-17T15:56:45.087142",
     "exception": false,
     "start_time": "2025-03-17T15:56:45.064092",
     "status": "completed"
    },
    "tags": []
   },
   "source": [
    "# Model 4"
   ]
  },
  {
   "cell_type": "code",
   "execution_count": 52,
   "id": "21e4da81",
   "metadata": {
    "execution": {
     "iopub.execute_input": "2025-03-17T15:56:45.137010Z",
     "iopub.status.busy": "2025-03-17T15:56:45.136613Z",
     "iopub.status.idle": "2025-03-17T15:56:45.519041Z",
     "shell.execute_reply": "2025-03-17T15:56:45.517951Z"
    },
    "papermill": {
     "duration": 0.40848,
     "end_time": "2025-03-17T15:56:45.520872",
     "exception": false,
     "start_time": "2025-03-17T15:56:45.112392",
     "status": "completed"
    },
    "tags": []
   },
   "outputs": [],
   "source": [
    "from xgboost import XGBClassifier"
   ]
  },
  {
   "cell_type": "markdown",
   "id": "1376ea2c",
   "metadata": {
    "papermill": {
     "duration": 0.024012,
     "end_time": "2025-03-17T15:56:45.568198",
     "exception": false,
     "start_time": "2025-03-17T15:56:45.544186",
     "status": "completed"
    },
    "tags": []
   },
   "source": [
    "## Hyperparameter Tuning"
   ]
  },
  {
   "cell_type": "code",
   "execution_count": 53,
   "id": "a894e365",
   "metadata": {
    "execution": {
     "iopub.execute_input": "2025-03-17T15:56:45.617196Z",
     "iopub.status.busy": "2025-03-17T15:56:45.616836Z",
     "iopub.status.idle": "2025-03-17T15:56:45.621977Z",
     "shell.execute_reply": "2025-03-17T15:56:45.620917Z"
    },
    "papermill": {
     "duration": 0.031858,
     "end_time": "2025-03-17T15:56:45.623856",
     "exception": false,
     "start_time": "2025-03-17T15:56:45.591998",
     "status": "completed"
    },
    "tags": []
   },
   "outputs": [],
   "source": [
    "params = {\n",
    "    \"learning_rate\" : [.05, .1, .5],\n",
    "    \"max_depth\" : [3, 5, 7],\n",
    "    \"n_estimators\" : [100, 200, 300],\n",
    "    \"min_child_weight\" : [3, 5, 7]\n",
    "}\n",
    "\n",
    "xgb = XGBClassifier(\n",
    "    objective=\"binary:logistic\",\n",
    "    eval_metric=\"logloss\",\n",
    "    use_label_encoder=False,\n",
    "    verbose=-1,\n",
    "    n_jobs=-1\n",
    ")"
   ]
  },
  {
   "cell_type": "code",
   "execution_count": 54,
   "id": "86bdb680",
   "metadata": {
    "execution": {
     "iopub.execute_input": "2025-03-17T15:56:45.672169Z",
     "iopub.status.busy": "2025-03-17T15:56:45.671763Z",
     "iopub.status.idle": "2025-03-17T15:56:45.676775Z",
     "shell.execute_reply": "2025-03-17T15:56:45.675340Z"
    },
    "papermill": {
     "duration": 0.031359,
     "end_time": "2025-03-17T15:56:45.678692",
     "exception": false,
     "start_time": "2025-03-17T15:56:45.647333",
     "status": "completed"
    },
    "tags": []
   },
   "outputs": [],
   "source": [
    "grid = GridSearchCV(\n",
    "    estimator=xgb,\n",
    "    param_grid=params,\n",
    "    cv=3,\n",
    "    scoring=\"accuracy\",\n",
    "    verbose=-1\n",
    ")\n",
    "# grid.fit(X_train, y_train)"
   ]
  },
  {
   "cell_type": "code",
   "execution_count": 55,
   "id": "1a4033e5",
   "metadata": {
    "execution": {
     "iopub.execute_input": "2025-03-17T15:56:45.726504Z",
     "iopub.status.busy": "2025-03-17T15:56:45.726097Z",
     "iopub.status.idle": "2025-03-17T15:56:45.732225Z",
     "shell.execute_reply": "2025-03-17T15:56:45.731155Z"
    },
    "papermill": {
     "duration": 0.03193,
     "end_time": "2025-03-17T15:56:45.733983",
     "exception": false,
     "start_time": "2025-03-17T15:56:45.702053",
     "status": "completed"
    },
    "tags": []
   },
   "outputs": [
    {
     "data": {
      "text/plain": [
       "{'learning_rate': 0.1,\n",
       " 'max_depth': 5,\n",
       " 'min_child_weight': 5,\n",
       " 'n_estimators': 200}"
      ]
     },
     "execution_count": 55,
     "metadata": {},
     "output_type": "execute_result"
    }
   ],
   "source": [
    "{'learning_rate': 0.1,\n",
    " 'max_depth': 5,\n",
    " 'min_child_weight': 5,\n",
    " 'n_estimators': 200}\n",
    "\n",
    "# grid.best_params_"
   ]
  },
  {
   "cell_type": "code",
   "execution_count": 56,
   "id": "93eb8b25",
   "metadata": {
    "execution": {
     "iopub.execute_input": "2025-03-17T15:56:45.782986Z",
     "iopub.status.busy": "2025-03-17T15:56:45.782625Z",
     "iopub.status.idle": "2025-03-17T15:56:49.121163Z",
     "shell.execute_reply": "2025-03-17T15:56:49.120321Z"
    },
    "papermill": {
     "duration": 3.364794,
     "end_time": "2025-03-17T15:56:49.123239",
     "exception": false,
     "start_time": "2025-03-17T15:56:45.758445",
     "status": "completed"
    },
    "tags": []
   },
   "outputs": [
    {
     "data": {
      "text/html": [
       "<style>#sk-container-id-4 {color: black;background-color: white;}#sk-container-id-4 pre{padding: 0;}#sk-container-id-4 div.sk-toggleable {background-color: white;}#sk-container-id-4 label.sk-toggleable__label {cursor: pointer;display: block;width: 100%;margin-bottom: 0;padding: 0.3em;box-sizing: border-box;text-align: center;}#sk-container-id-4 label.sk-toggleable__label-arrow:before {content: \"▸\";float: left;margin-right: 0.25em;color: #696969;}#sk-container-id-4 label.sk-toggleable__label-arrow:hover:before {color: black;}#sk-container-id-4 div.sk-estimator:hover label.sk-toggleable__label-arrow:before {color: black;}#sk-container-id-4 div.sk-toggleable__content {max-height: 0;max-width: 0;overflow: hidden;text-align: left;background-color: #f0f8ff;}#sk-container-id-4 div.sk-toggleable__content pre {margin: 0.2em;color: black;border-radius: 0.25em;background-color: #f0f8ff;}#sk-container-id-4 input.sk-toggleable__control:checked~div.sk-toggleable__content {max-height: 200px;max-width: 100%;overflow: auto;}#sk-container-id-4 input.sk-toggleable__control:checked~label.sk-toggleable__label-arrow:before {content: \"▾\";}#sk-container-id-4 div.sk-estimator input.sk-toggleable__control:checked~label.sk-toggleable__label {background-color: #d4ebff;}#sk-container-id-4 div.sk-label input.sk-toggleable__control:checked~label.sk-toggleable__label {background-color: #d4ebff;}#sk-container-id-4 input.sk-hidden--visually {border: 0;clip: rect(1px 1px 1px 1px);clip: rect(1px, 1px, 1px, 1px);height: 1px;margin: -1px;overflow: hidden;padding: 0;position: absolute;width: 1px;}#sk-container-id-4 div.sk-estimator {font-family: monospace;background-color: #f0f8ff;border: 1px dotted black;border-radius: 0.25em;box-sizing: border-box;margin-bottom: 0.5em;}#sk-container-id-4 div.sk-estimator:hover {background-color: #d4ebff;}#sk-container-id-4 div.sk-parallel-item::after {content: \"\";width: 100%;border-bottom: 1px solid gray;flex-grow: 1;}#sk-container-id-4 div.sk-label:hover label.sk-toggleable__label {background-color: #d4ebff;}#sk-container-id-4 div.sk-serial::before {content: \"\";position: absolute;border-left: 1px solid gray;box-sizing: border-box;top: 0;bottom: 0;left: 50%;z-index: 0;}#sk-container-id-4 div.sk-serial {display: flex;flex-direction: column;align-items: center;background-color: white;padding-right: 0.2em;padding-left: 0.2em;position: relative;}#sk-container-id-4 div.sk-item {position: relative;z-index: 1;}#sk-container-id-4 div.sk-parallel {display: flex;align-items: stretch;justify-content: center;background-color: white;position: relative;}#sk-container-id-4 div.sk-item::before, #sk-container-id-4 div.sk-parallel-item::before {content: \"\";position: absolute;border-left: 1px solid gray;box-sizing: border-box;top: 0;bottom: 0;left: 50%;z-index: -1;}#sk-container-id-4 div.sk-parallel-item {display: flex;flex-direction: column;z-index: 1;position: relative;background-color: white;}#sk-container-id-4 div.sk-parallel-item:first-child::after {align-self: flex-end;width: 50%;}#sk-container-id-4 div.sk-parallel-item:last-child::after {align-self: flex-start;width: 50%;}#sk-container-id-4 div.sk-parallel-item:only-child::after {width: 0;}#sk-container-id-4 div.sk-dashed-wrapped {border: 1px dashed gray;margin: 0 0.4em 0.5em 0.4em;box-sizing: border-box;padding-bottom: 0.4em;background-color: white;}#sk-container-id-4 div.sk-label label {font-family: monospace;font-weight: bold;display: inline-block;line-height: 1.2em;}#sk-container-id-4 div.sk-label-container {text-align: center;}#sk-container-id-4 div.sk-container {/* jupyter's `normalize.less` sets `[hidden] { display: none; }` but bootstrap.min.css set `[hidden] { display: none !important; }` so we also need the `!important` here to be able to override the default hidden behavior on the sphinx rendered scikit-learn.org. See: https://github.com/scikit-learn/scikit-learn/issues/21755 */display: inline-block !important;position: relative;}#sk-container-id-4 div.sk-text-repr-fallback {display: none;}</style><div id=\"sk-container-id-4\" class=\"sk-top-container\"><div class=\"sk-text-repr-fallback\"><pre>XGBClassifier(base_score=None, booster=None, callbacks=None,\n",
       "              colsample_bylevel=None, colsample_bynode=None,\n",
       "              colsample_bytree=None, device=None, early_stopping_rounds=None,\n",
       "              enable_categorical=False, eval_metric=&#x27;logloss&#x27;,\n",
       "              feature_types=None, gamma=None, grow_policy=None,\n",
       "              importance_type=None, interaction_constraints=None,\n",
       "              learning_rate=0.1, max_bin=None, max_cat_threshold=None,\n",
       "              max_cat_to_onehot=None, max_delta_step=None, max_depth=5,\n",
       "              max_leaves=None, min_child_weight=5, missing=nan,\n",
       "              monotone_constraints=None, multi_strategy=None, n_estimators=200,\n",
       "              n_jobs=None, num_parallel_tree=None, random_state=None, ...)</pre><b>In a Jupyter environment, please rerun this cell to show the HTML representation or trust the notebook. <br />On GitHub, the HTML representation is unable to render, please try loading this page with nbviewer.org.</b></div><div class=\"sk-container\" hidden><div class=\"sk-item\"><div class=\"sk-estimator sk-toggleable\"><input class=\"sk-toggleable__control sk-hidden--visually\" id=\"sk-estimator-id-10\" type=\"checkbox\" checked><label for=\"sk-estimator-id-10\" class=\"sk-toggleable__label sk-toggleable__label-arrow\">XGBClassifier</label><div class=\"sk-toggleable__content\"><pre>XGBClassifier(base_score=None, booster=None, callbacks=None,\n",
       "              colsample_bylevel=None, colsample_bynode=None,\n",
       "              colsample_bytree=None, device=None, early_stopping_rounds=None,\n",
       "              enable_categorical=False, eval_metric=&#x27;logloss&#x27;,\n",
       "              feature_types=None, gamma=None, grow_policy=None,\n",
       "              importance_type=None, interaction_constraints=None,\n",
       "              learning_rate=0.1, max_bin=None, max_cat_threshold=None,\n",
       "              max_cat_to_onehot=None, max_delta_step=None, max_depth=5,\n",
       "              max_leaves=None, min_child_weight=5, missing=nan,\n",
       "              monotone_constraints=None, multi_strategy=None, n_estimators=200,\n",
       "              n_jobs=None, num_parallel_tree=None, random_state=None, ...)</pre></div></div></div></div></div>"
      ],
      "text/plain": [
       "XGBClassifier(base_score=None, booster=None, callbacks=None,\n",
       "              colsample_bylevel=None, colsample_bynode=None,\n",
       "              colsample_bytree=None, device=None, early_stopping_rounds=None,\n",
       "              enable_categorical=False, eval_metric='logloss',\n",
       "              feature_types=None, gamma=None, grow_policy=None,\n",
       "              importance_type=None, interaction_constraints=None,\n",
       "              learning_rate=0.1, max_bin=None, max_cat_threshold=None,\n",
       "              max_cat_to_onehot=None, max_delta_step=None, max_depth=5,\n",
       "              max_leaves=None, min_child_weight=5, missing=nan,\n",
       "              monotone_constraints=None, multi_strategy=None, n_estimators=200,\n",
       "              n_jobs=None, num_parallel_tree=None, random_state=None, ...)"
      ]
     },
     "execution_count": 56,
     "metadata": {},
     "output_type": "execute_result"
    }
   ],
   "source": [
    "xgb = XGBClassifier(\n",
    "    objective=\"binary:logistic\",\n",
    "    eval_metric=\"logloss\",\n",
    "    use_label_encoder=False,\n",
    "    learning_rate=0.1,\n",
    "    max_depth=5,\n",
    "    min_child_weight=5,\n",
    "    n_estimators=200\n",
    ")\n",
    "xgb.fit(X_train, y_train)"
   ]
  },
  {
   "cell_type": "code",
   "execution_count": 57,
   "id": "71f2912a",
   "metadata": {
    "execution": {
     "iopub.execute_input": "2025-03-17T15:56:49.173986Z",
     "iopub.status.busy": "2025-03-17T15:56:49.173618Z",
     "iopub.status.idle": "2025-03-17T15:56:49.417381Z",
     "shell.execute_reply": "2025-03-17T15:56:49.415148Z"
    },
    "papermill": {
     "duration": 0.270696,
     "end_time": "2025-03-17T15:56:49.419764",
     "exception": false,
     "start_time": "2025-03-17T15:56:49.149068",
     "status": "completed"
    },
    "tags": []
   },
   "outputs": [
    {
     "data": {
      "text/plain": [
       "(0.66305, 0.63075)"
      ]
     },
     "execution_count": 57,
     "metadata": {},
     "output_type": "execute_result"
    }
   ],
   "source": [
    "xgb.score(X_train, y_train), xgb.score(X_val, y_val)"
   ]
  },
  {
   "cell_type": "markdown",
   "id": "6b6f2df7",
   "metadata": {
    "papermill": {
     "duration": 0.023677,
     "end_time": "2025-03-17T15:56:49.469022",
     "exception": false,
     "start_time": "2025-03-17T15:56:49.445345",
     "status": "completed"
    },
    "tags": []
   },
   "source": [
    "# Comparison"
   ]
  },
  {
   "cell_type": "code",
   "execution_count": 58,
   "id": "4bd906d6",
   "metadata": {
    "execution": {
     "iopub.execute_input": "2025-03-17T15:56:49.517653Z",
     "iopub.status.busy": "2025-03-17T15:56:49.517255Z",
     "iopub.status.idle": "2025-03-17T15:56:49.521229Z",
     "shell.execute_reply": "2025-03-17T15:56:49.520298Z"
    },
    "papermill": {
     "duration": 0.030159,
     "end_time": "2025-03-17T15:56:49.522869",
     "exception": false,
     "start_time": "2025-03-17T15:56:49.492710",
     "status": "completed"
    },
    "tags": []
   },
   "outputs": [],
   "source": [
    "# sgd.score(X_val, y_val), rfc.score(X_val, y_val), lgb.score(X_val, y_val), xgb.score(X_val, y_val)"
   ]
  },
  {
   "cell_type": "markdown",
   "id": "02d62c02",
   "metadata": {
    "papermill": {
     "duration": 0.023043,
     "end_time": "2025-03-17T15:56:49.569958",
     "exception": false,
     "start_time": "2025-03-17T15:56:49.546915",
     "status": "completed"
    },
    "tags": []
   },
   "source": [
    "# Submission"
   ]
  },
  {
   "cell_type": "code",
   "execution_count": 59,
   "id": "fdb538da",
   "metadata": {
    "execution": {
     "iopub.execute_input": "2025-03-17T15:56:49.617872Z",
     "iopub.status.busy": "2025-03-17T15:56:49.617501Z",
     "iopub.status.idle": "2025-03-17T15:56:49.709599Z",
     "shell.execute_reply": "2025-03-17T15:56:49.708530Z"
    },
    "papermill": {
     "duration": 0.11831,
     "end_time": "2025-03-17T15:56:49.711583",
     "exception": false,
     "start_time": "2025-03-17T15:56:49.593273",
     "status": "completed"
    },
    "tags": []
   },
   "outputs": [],
   "source": [
    "# y_pred = sgd.predict(X_test)\n",
    "# y_pred = rfc.predict(X_test)\n",
    "y_pred = lgb.predict(X_test)\n",
    "# y_pred = xgb.predict(X_test)"
   ]
  },
  {
   "cell_type": "code",
   "execution_count": 60,
   "id": "0b9a5287",
   "metadata": {
    "execution": {
     "iopub.execute_input": "2025-03-17T15:56:49.760779Z",
     "iopub.status.busy": "2025-03-17T15:56:49.760338Z",
     "iopub.status.idle": "2025-03-17T15:56:49.778310Z",
     "shell.execute_reply": "2025-03-17T15:56:49.777146Z"
    },
    "papermill": {
     "duration": 0.044719,
     "end_time": "2025-03-17T15:56:49.780093",
     "exception": false,
     "start_time": "2025-03-17T15:56:49.735374",
     "status": "completed"
    },
    "tags": []
   },
   "outputs": [],
   "source": [
    "submission = pd.DataFrame({\"id\": range(0, X_test.shape[0]), \"target\": y_pred})\n",
    "submission.to_csv('submission.csv', index=False)"
   ]
  }
 ],
 "metadata": {
  "kaggle": {
   "accelerator": "none",
   "dataSources": [
    {
     "databundleVersionId": 10592855,
     "sourceId": 90791,
     "sourceType": "competition"
    }
   ],
   "dockerImageVersionId": 30839,
   "isGpuEnabled": false,
   "isInternetEnabled": false,
   "language": "python",
   "sourceType": "notebook"
  },
  "kernelspec": {
   "display_name": "Python 3",
   "language": "python",
   "name": "python3"
  },
  "language_info": {
   "codemirror_mode": {
    "name": "ipython",
    "version": 3
   },
   "file_extension": ".py",
   "mimetype": "text/x-python",
   "name": "python",
   "nbconvert_exporter": "python",
   "pygments_lexer": "ipython3",
   "version": "3.10.12"
  },
  "papermill": {
   "default_parameters": {},
   "duration": 32.84473,
   "end_time": "2025-03-17T15:56:50.825550",
   "environment_variables": {},
   "exception": null,
   "input_path": "__notebook__.ipynb",
   "output_path": "__notebook__.ipynb",
   "parameters": {},
   "start_time": "2025-03-17T15:56:17.980820",
   "version": "2.6.0"
  }
 },
 "nbformat": 4,
 "nbformat_minor": 5
}
